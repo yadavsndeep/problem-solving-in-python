{
 "cells": [
  {
   "cell_type": "markdown",
   "metadata": {},
   "source": [
    "Signature:\n",
    "bool areTheyEqual(int[] arr_a, int[] arr_b)\n",
    "\n",
    "input\n",
    "All integers in array are in the range [0, 1,000,000,000]\n",
    "\n",
    "output\n",
    "Return true if B can be made equal to A, Return false otherwise.\n",
    "\n",
    " Example:\n",
    " A = [1, 2, 3, 4]\n",
    " B = [1, 4, 3, 2]\n",
    " output = true\n",
    "\n",
    " After reversing the subarray of B from indices 1 to 3, array B will equal array A.\n",
    " "
   ]
  },
  {
   "cell_type": "code",
   "execution_count": 1,
   "metadata": {},
   "outputs": [],
   "source": [
    "def are_they_equal(array_a, array_b):\n",
    "    return set(array_a) == set(array_b)"
   ]
  },
  {
   "cell_type": "code",
   "execution_count": 2,
   "metadata": {},
   "outputs": [
    {
     "name": "stdout",
     "output_type": "stream",
     "text": [
      "504 ns ± 6.17 ns per loop (mean ± std. dev. of 7 runs, 1000000 loops each)\n"
     ]
    }
   ],
   "source": [
    "%timeit are_they_equal([1, 2, 3, 4] , [1, 4, 3, 2])"
   ]
  },
  {
   "cell_type": "code",
   "execution_count": 11,
   "metadata": {},
   "outputs": [],
   "source": [
    "def are_they_equal(array_a, array_b):\n",
    "  # Write your code here\n",
    "  if (len(array_a) != len (array_b)):\n",
    "    return False\n",
    "  \n",
    "  ele_holder = dict()\n",
    "  \n",
    "  for item in array_a:\n",
    "    if ele_holder.get(item) is None:\n",
    "      ele_holder[item]= 1\n",
    "    else:\n",
    "      ele_holder[item] += 1\n",
    "    \n",
    "  print(\"after loading A\",str(ele_holder))\n",
    "  \n",
    "  for item in array_b:\n",
    "    if ele_holder.get(item) is None:\n",
    "      return False\n",
    "    elif ele_holder.get(item) > 1:\n",
    "      ele_holder[item] -=1\n",
    "    else:\n",
    "      del ele_holder[item]\n",
    "   \n",
    "  print(\"after unloading B\",str(ele_holder))\n",
    "      \n",
    "  return len(ele_holder) == 0\n",
    "      \n",
    "    \n",
    "  \n",
    "  ##return (set(array_a)== set(array_b))\n",
    "    "
   ]
  },
  {
   "cell_type": "code",
   "execution_count": 12,
   "metadata": {},
   "outputs": [
    {
     "name": "stdout",
     "output_type": "stream",
     "text": [
      "after loading A {1: 1, 2: 1, 3: 1, 4: 1}\n",
      "after unloading B {}\n"
     ]
    },
    {
     "data": {
      "text/plain": [
       "True"
      ]
     },
     "execution_count": 12,
     "metadata": {},
     "output_type": "execute_result"
    }
   ],
   "source": [
    "a_1 = [1, 2, 3, 4]\n",
    "b_1 = [1, 4, 3, 2]\n",
    "are_they_equal(a_1,b_1)"
   ]
  },
  {
   "cell_type": "code",
   "execution_count": null,
   "metadata": {},
   "outputs": [],
   "source": []
  }
 ],
 "metadata": {
  "kernelspec": {
   "display_name": "Python 3",
   "language": "python",
   "name": "python3"
  },
  "language_info": {
   "codemirror_mode": {
    "name": "ipython",
    "version": 3
   },
   "file_extension": ".py",
   "mimetype": "text/x-python",
   "name": "python",
   "nbconvert_exporter": "python",
   "pygments_lexer": "ipython3",
   "version": "3.7.6"
  }
 },
 "nbformat": 4,
 "nbformat_minor": 4
}
