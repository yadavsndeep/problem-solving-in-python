{
 "cells": [
  {
   "cell_type": "markdown",
   "metadata": {},
   "source": [
    "### pair sum in Arrays\n",
    "####  return count of pairs in a list which has a given sum \n",
    "\n",
    "Given an integer array, output all the unique pairs that sum up to a specific value k.\n",
    "\n",
    "So the input:\n",
    "\n",
    "pair_sum([1,3,2,2],4)\n",
    "\n",
    "would return 2 pairs:\n",
    "\n",
    " (1,3)\n",
    " (2,2)"
   ]
  },
  {
   "cell_type": "code",
   "execution_count": 7,
   "metadata": {},
   "outputs": [],
   "source": [
    "def pair_sum(arr,k):\n",
    "    \n",
    "    counter =0\n",
    "    hold = set()\n",
    "    # if we have to print the pairs as well\n",
    "    output = set()\n",
    "    \n",
    "    if (len(arr) == 0 and k != 0):\n",
    "        return 0\n",
    "    \n",
    "    for num in arr:\n",
    "        if k-num in hold:\n",
    "            counter += 1\n",
    "           # print(\"input:\", num)\n",
    "           # print(\"countr: \", counter)\n",
    "            output.add((min(num,k-num),max(num,k-num)))    \n",
    "        else:\n",
    "            hold.add(num)\n",
    "            print(hold)\n",
    "            \n",
    "    return len(output)\n",
    "    \n",
    "    "
   ]
  },
  {
   "cell_type": "code",
   "execution_count": 8,
   "metadata": {},
   "outputs": [
    {
     "name": "stdout",
     "output_type": "stream",
     "text": [
      "{0}\n",
      "{0, 1}\n",
      "{0, 1, 3}\n",
      "{0, 1, 3, 4}\n",
      "{0, 1, 2, 3, 4}\n",
      "{0, 1, 2, 3, 4}\n"
     ]
    },
    {
     "data": {
      "text/plain": [
       "3"
      ]
     },
     "execution_count": 8,
     "metadata": {},
     "output_type": "execute_result"
    }
   ],
   "source": [
    "pair_sum([0,1,3,4,2,5,6,4,3],8)"
   ]
  },
  {
   "cell_type": "code",
   "execution_count": 33,
   "metadata": {},
   "outputs": [
    {
     "name": "stdout",
     "output_type": "stream",
     "text": [
      "{0}\n",
      "{0, 1}\n",
      "{0, 1, 3}\n",
      "input: 4\n",
      "countr:  1\n",
      "input: 2\n",
      "countr:  2\n",
      "{1}\n",
      "input: 9\n",
      "countr:  1\n",
      "{1, 2}\n",
      "input: 8\n",
      "countr:  2\n",
      "{1, 2, 3}\n",
      "input: 7\n",
      "countr:  3\n",
      "{1, 2, 3, 4}\n",
      "input: 6\n",
      "countr:  4\n",
      "{1, 2, 3, 4, 5}\n",
      "input: 5\n",
      "countr:  5\n",
      "{1, 2, 3, 4, 5, 13}\n",
      "{1, 2, 3, 4, 5, 13, 14}\n",
      "{1, 2, 3, 4, 5, 11, 13, 14}\n",
      "{1, 2, 3, 4, 5, 11, 13, 14}\n",
      "input: -1\n",
      "countr:  6\n",
      "{1}\n",
      "input: 2\n",
      "countr:  1\n",
      "{1, 3}\n",
      "{1, 3}\n",
      "{1}\n",
      "input: 3\n",
      "countr:  1\n",
      "{1, 2}\n",
      "input: 2\n",
      "countr:  2\n",
      "{0}\n",
      "{0, 1}\n",
      "{0, 1, 3}\n",
      "{0, 1, 3, 4}\n",
      "{0, 1, 2, 3, 4}\n",
      "input: 5\n",
      "countr:  1\n",
      "input: 6\n",
      "countr:  2\n",
      "input: 4\n",
      "countr:  3\n",
      "{0, 1, 2, 3, 4}\n",
      "ALL TEST CASES PASSED\n"
     ]
    }
   ],
   "source": [
    "from nose.tools import assert_equal\n",
    "\n",
    "class pair_sum_test(object):\n",
    "    def test(self,pair_sum):\n",
    "        assert_equal(pair_sum([0,1,3,4,2],5),2)\n",
    "        assert_equal(pair_sum([1,9,2,8,3,7,4,6,5,5,13,14,11,13,-1],10),6)\n",
    "        assert_equal(pair_sum([1,2,3,1],3),1)\n",
    "        assert_equal(pair_sum([1,3,2,2],4),2)\n",
    "        assert_equal(pair_sum([0,1,3,4,2,5,6,4,3],8),3)\n",
    "        print('ALL TEST CASES PASSED')\n",
    "        \n",
    "\n",
    "        \n",
    "pst = pair_sum_test()\n",
    "pst.test(pair_sum)\n",
    "        "
   ]
  },
  {
   "cell_type": "code",
   "execution_count": null,
   "metadata": {},
   "outputs": [],
   "source": []
  }
 ],
 "metadata": {
  "kernelspec": {
   "display_name": "Python 3",
   "language": "python",
   "name": "python3"
  },
  "language_info": {
   "codemirror_mode": {
    "name": "ipython",
    "version": 3
   },
   "file_extension": ".py",
   "mimetype": "text/x-python",
   "name": "python",
   "nbconvert_exporter": "python",
   "pygments_lexer": "ipython3",
   "version": "3.7.6"
  }
 },
 "nbformat": 4,
 "nbformat_minor": 4
}
