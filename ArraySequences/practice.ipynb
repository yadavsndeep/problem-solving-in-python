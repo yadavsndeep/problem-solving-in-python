{
 "cells": [
  {
   "cell_type": "markdown",
   "metadata": {},
   "source": [
    "### longest uniform substring\n",
    "longest repeating character starting index and count\n",
    "\n",
    "String a = “abbbabb”\n",
    "\n",
    "Output : [1, 3]\n"
   ]
  },
  {
   "cell_type": "code",
   "execution_count": 32,
   "metadata": {},
   "outputs": [],
   "source": [
    "def longestSubstr(str):\n",
    "    \n",
    "    if len(str) ==0:\n",
    "        return []\n",
    "    \n",
    "    start = 0\n",
    "    maxlen =1\n",
    "    currlen = 1\n",
    "    \n",
    "    for i in range (1,len(str)):\n",
    "            \n",
    "        if  currlen > maxlen  :\n",
    "            maxstart = start\n",
    "            maxlen = currlen\n",
    "        \n",
    "        if str[i-1] == str[i] :\n",
    "            currlen = currlen +1\n",
    "        else:\n",
    "            \n",
    "            start=i\n",
    "            currlen=1\n",
    "            \n",
    "    return [maxstart,maxlen]\n",
    "        \n",
    "        \n",
    "    "
   ]
  },
  {
   "cell_type": "code",
   "execution_count": 33,
   "metadata": {},
   "outputs": [
    {
     "data": {
      "text/plain": [
       "[1, 3]"
      ]
     },
     "execution_count": 33,
     "metadata": {},
     "output_type": "execute_result"
    }
   ],
   "source": [
    "longestSubstr(\"abbbabb\")"
   ]
  },
  {
   "cell_type": "code",
   "execution_count": null,
   "metadata": {},
   "outputs": [],
   "source": []
  }
 ],
 "metadata": {
  "kernelspec": {
   "display_name": "Python 3",
   "language": "python",
   "name": "python3"
  },
  "language_info": {
   "codemirror_mode": {
    "name": "ipython",
    "version": 3
   },
   "file_extension": ".py",
   "mimetype": "text/x-python",
   "name": "python",
   "nbconvert_exporter": "python",
   "pygments_lexer": "ipython3",
   "version": "3.7.6"
  }
 },
 "nbformat": 4,
 "nbformat_minor": 4
}
