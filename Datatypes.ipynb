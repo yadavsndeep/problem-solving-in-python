{
 "cells": [
  {
   "cell_type": "code",
   "execution_count": null,
   "metadata": {},
   "outputs": [],
   "source": [
    "1+1"
   ]
  },
  {
   "cell_type": "code",
   "execution_count": 5,
   "metadata": {},
   "outputs": [],
   "source": [
    "bikes = ['trek', 'redline', 'giant']\n",
    "bikes.append('trek')\n",
    "bikes.append('redline')\n",
    "bikes.append('giant')"
   ]
  },
  {
   "cell_type": "code",
   "execution_count": 6,
   "metadata": {},
   "outputs": [
    {
     "name": "stdout",
     "output_type": "stream",
     "text": [
      "['trek', 'redline', 'giant', 'trek', 'redline', 'giant']\n"
     ]
    }
   ],
   "source": [
    "print (bikes)"
   ]
  },
  {
   "cell_type": "code",
   "execution_count": 7,
   "metadata": {},
   "outputs": [
    {
     "name": "stdout",
     "output_type": "stream",
     "text": [
      "[1, 4, 9, 16, 25, 36, 49, 64, 81]\n"
     ]
    }
   ],
   "source": [
    "squares =[]\n",
    "for i in range ( 1 , 10):\n",
    "    squares.append(i**2)\n",
    "print(squares)"
   ]
  },
  {
   "cell_type": "markdown",
   "metadata": {},
   "source": [
    "# List Comprehension"
   ]
  },
  {
   "cell_type": "code",
   "execution_count": 8,
   "metadata": {},
   "outputs": [
    {
     "name": "stdout",
     "output_type": "stream",
     "text": [
      "[1, 4, 9, 16, 25, 36, 49, 64, 81, 100]\n"
     ]
    }
   ],
   "source": [
    "squares = [x**2 for x in range(1, 11)]\n",
    "print(squares)"
   ]
  },
  {
   "cell_type": "code",
   "execution_count": 9,
   "metadata": {},
   "outputs": [
    {
     "name": "stdout",
     "output_type": "stream",
     "text": [
      "['sam', 'bob']\n"
     ]
    }
   ],
   "source": [
    "finishers = ['sam', 'bob', 'ada', 'bea']\n",
    "print(finishers[:2])"
   ]
  },
  {
   "cell_type": "code",
   "execution_count": 10,
   "metadata": {},
   "outputs": [
    {
     "name": "stdout",
     "output_type": "stream",
     "text": [
      "['trek', 'redline', 'giant', 'trek', 'redline', 'giant']\n"
     ]
    }
   ],
   "source": [
    "# copy a list\n",
    "copy_of_bikes = bikes[:]\n",
    "print(copy_of_bikes)"
   ]
  },
  {
   "cell_type": "code",
   "execution_count": 11,
   "metadata": {},
   "outputs": [
    {
     "name": "stdout",
     "output_type": "stream",
     "text": [
      "What's your message? Hi\n",
      "Hi\n",
      "What's your message? quit\n",
      "quit\n"
     ]
    }
   ],
   "source": [
    "msg = ''\n",
    "while msg != 'quit':\n",
    "    msg = input(\"What's your message? \")\n",
    "    print(msg)"
   ]
  },
  {
   "cell_type": "code",
   "execution_count": 12,
   "metadata": {},
   "outputs": [],
   "source": [
    "s = set([\"hi\",2,\"there\"])\n",
    "s.add(\"non\")\n",
    "s.add(\"you\")\n",
    "#s.add([\"nop\"]) ##TypeError: unhashable type: 'list'\n"
   ]
  },
  {
   "cell_type": "code",
   "execution_count": 13,
   "metadata": {},
   "outputs": [],
   "source": [
    "my_dict = {}\n",
    "#my_dict[\"hi\"]  ##KeyError: 'hi'\n",
    "my_dict[\"hi\"] = 1 "
   ]
  },
  {
   "cell_type": "code",
   "execution_count": 14,
   "metadata": {},
   "outputs": [
    {
     "data": {
      "text/plain": [
       "{'hi': 1}"
      ]
     },
     "execution_count": 14,
     "metadata": {},
     "output_type": "execute_result"
    }
   ],
   "source": [
    "my_dict"
   ]
  },
  {
   "cell_type": "markdown",
   "metadata": {},
   "source": [
    "#### Friends counter\n",
    "[[A,B],[A,C],[B,D],[B,C],[R,M], [S],[P], [A]] Write a function that creates a dictionary of how many friends each person has. People can have 0 to many friends. However, there won't be repeat relationships like [A,B] and [B,A] and neither will there be more than 2 people in a relationship"
   ]
  },
  {
   "cell_type": "code",
   "execution_count": 15,
   "metadata": {},
   "outputs": [],
   "source": [
    "def friendCounter(items):\n",
    "    result=dict()\n",
    "    for item in items:\n",
    "        if item[0] not in result.keys():\n",
    "            result[item[0]]=len(item)-1\n",
    "        elif item[0] in result.keys():\n",
    "            result[item[0]]+=len(item)-1\n",
    "\n",
    "    print(result)\n",
    "\n",
    "    "
   ]
  },
  {
   "cell_type": "code",
   "execution_count": 16,
   "metadata": {},
   "outputs": [
    {
     "name": "stdout",
     "output_type": "stream",
     "text": [
      "{'A': 2, 'B': 2, 'R': 1, 'S': 0, 'P': 0}\n"
     ]
    }
   ],
   "source": [
    "items=[['A','B'],['A','C'],['B','D'],['B','C'],['R','M'], ['S'],['P'], ['A']]\n",
    "friendCounter(items)"
   ]
  },
  {
   "cell_type": "code",
   "execution_count": null,
   "metadata": {},
   "outputs": [],
   "source": [
    "def frd_cnt(input):\n",
    "    d={}\n",
    "    for tup in input:\n",
    "        if len(tup)>1:\n",
    "            for frd in tup:\n",
    "                    if frd not in d.keys():\n",
    "                        d[frd]=1\n",
    "                    else:\n",
    "                        d[frd]+=1\n",
    "\n",
    "        else:\n",
    "            if tup[0] not in d.keys():\n",
    "                d[tup[0]]=0\n",
    "    return d\n"
   ]
  },
  {
   "cell_type": "code",
   "execution_count": null,
   "metadata": {},
   "outputs": [],
   "source": [
    "print(frd_cnt(items))"
   ]
  },
  {
   "cell_type": "code",
   "execution_count": null,
   "metadata": {},
   "outputs": [],
   "source": [
    "def friendsCounter(lst):\n",
    "        friends = {}\n",
    "        for grp in lst:\n",
    "            if len(grp) > 1:\n",
    "                friends[grp[0]] = friends.get(grp[0], 0) + 1\n",
    "                friends[grp[1]] = friends.get(grp[1], 0) + 1\n",
    "            else:\n",
    "                if friends.get(grp[0], 0) == 0:\n",
    "                    friends[grp[0]] = 0\n",
    "        return friends"
   ]
  },
  {
   "cell_type": "code",
   "execution_count": null,
   "metadata": {},
   "outputs": [],
   "source": [
    "print(friendsCounter(items))"
   ]
  },
  {
   "cell_type": "code",
   "execution_count": null,
   "metadata": {},
   "outputs": [],
   "source": [
    "class Solution(object):\n",
    "   def validIPAddress(self, IP):\n",
    "      \"\"\"\n",
    "      :type IP: str\n",
    "      :rtype: str\n",
    "      \"\"\"\n",
    "      def isIPv4(s):\n",
    "         try: return str(int(s)) == s and 0 <= int(s) <= 255\n",
    "         except: return False\n",
    "      def isIPv6(s):\n",
    "         if len(s) > 4:\n",
    "            return False\n",
    "         try : return int(s, 16) >= 0 and s[0] != '-'\n",
    "         except:\n",
    "            return False\n",
    "      if IP.count(\".\") == 3 and all(isIPv4(i) for i in IP.split(\".\")):\n",
    "         return \"IPv4\"\n",
    "      if IP.count(\":\") == 7 and all(isIPv6(i) for i in IP.split(\":\")):\n",
    "         return \"IPv6\"\n",
    "      return \"Neither\"\n"
   ]
  },
  {
   "cell_type": "code",
   "execution_count": null,
   "metadata": {},
   "outputs": [],
   "source": [
    "ob = Solution()\n",
    "print(ob.validIPAddress(\"172.16.254.1\"))"
   ]
  },
  {
   "cell_type": "code",
   "execution_count": null,
   "metadata": {},
   "outputs": [],
   "source": [
    "ob = Solution()\n",
    "print(ob.validIPAddress(\"2001:0db8:85a3:0000:0000:8a2e:0370:7334\"))"
   ]
  },
  {
   "cell_type": "markdown",
   "metadata": {},
   "source": [
    "### Designer PDF Viewer\n",
    "\n",
    "In this challenge, you will be given a list of letter heights in the alphabet and a string. Using the letter heights given, determine the area of the rectangle highlight in  assuming all letters are  wide.\n",
    "\n",
    "For example, the highlighted . Assume the heights of the letters are  and . The tallest letter is  high and there are  letters. The hightlighted area will be  so the answer is .\n",
    "\n",
    "Input Format\n",
    "\n",
    "The first line contains  space-separated integers describing the respective heights of each consecutive lowercase English letter, ascii[a-z].\n",
    "The second line contains a single word, consisting of lowercase English alphabetic letters.\n",
    "\n",
    "sample i/p\n",
    "1 3 1 3 1 4 1 3 2 5 5 5 5 5 5 5 5 5 5 5 5 5 5 5 5 5\n",
    "abc\n",
    "\n",
    "o/p\n",
    "9"
   ]
  },
  {
   "cell_type": "code",
   "execution_count": 1,
   "metadata": {},
   "outputs": [],
   "source": [
    "#!/bin/python3\n",
    "\n",
    "import sys\n",
    "\n",
    "def designerPdfViewer(heights, s):\n",
    "    h = [int(h_tmp) for h_tmp in heights.strip().split(' ')]\n",
    "    word = s.strip()\n",
    "    return len(word) * max(h[ord(l)-ord('a')] for l in word)"
   ]
  },
  {
   "cell_type": "code",
   "execution_count": 2,
   "metadata": {},
   "outputs": [
    {
     "data": {
      "text/plain": [
       "28"
      ]
     },
     "execution_count": 2,
     "metadata": {},
     "output_type": "execute_result"
    }
   ],
   "source": [
    "heights=\"1 3 1 3 1 4 1 3 2 5 5 5 5 5 5 5 5 5 5 5 5 5 5 5 5 7\"\n",
    "s=\"zaba\"\n",
    "designerPdfViewer(heights, s)"
   ]
  },
  {
   "cell_type": "markdown",
   "metadata": {},
   "source": [
    "### Arrays: Left Rotation\n",
    "\n",
    "A left rotation operation on an array shifts each of the array's elements  unit to the left. For example, if  left rotations are performed on array , then the array would become .\n",
    "\n",
    "Given an array  of  integers and a number, , perform  left rotations on the array. Return the updated array to be printed as a single line of space-separated integers."
   ]
  },
  {
   "cell_type": "code",
   "execution_count": null,
   "metadata": {},
   "outputs": [],
   "source": [
    "def rotLeft(a, d):\n",
    "    n = len(a)\n",
    "    res=[]\n",
    "    \n",
    "    for c in range(0,n):\n",
    "        print(\"c, target\",c,(c+d)%n)\n",
    "        res.append(a[(c+d)%n])\n",
    "        \n",
    "    return res\n",
    "        \n",
    "        "
   ]
  },
  {
   "cell_type": "code",
   "execution_count": null,
   "metadata": {},
   "outputs": [],
   "source": [
    "l=[33, 47, 70, 37, 8, 53, 13, 93, 71, 72, 51, 100, 60, 87, 97]\n",
    "rotLeft(l, 13)"
   ]
  },
  {
   "cell_type": "code",
   "execution_count": null,
   "metadata": {},
   "outputs": [],
   "source": [
    "l=[33, 47, 70, 37]\n",
    "rotLeft(l, -2)"
   ]
  },
  {
   "cell_type": "code",
   "execution_count": null,
   "metadata": {},
   "outputs": [],
   "source": []
  }
 ],
 "metadata": {
  "kernelspec": {
   "display_name": "Python 3",
   "language": "python",
   "name": "python3"
  },
  "language_info": {
   "codemirror_mode": {
    "name": "ipython",
    "version": 3
   },
   "file_extension": ".py",
   "mimetype": "text/x-python",
   "name": "python",
   "nbconvert_exporter": "python",
   "pygments_lexer": "ipython3",
   "version": "3.7.6"
  }
 },
 "nbformat": 4,
 "nbformat_minor": 4
}
