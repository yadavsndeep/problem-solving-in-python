{
 "cells": [
  {
   "cell_type": "markdown",
   "metadata": {},
   "source": [
    "### remove duplicates from string . Keep only first occurance"
   ]
  },
  {
   "cell_type": "code",
   "execution_count": 1,
   "metadata": {},
   "outputs": [],
   "source": [
    "def removeDuplicates(s):\n",
    "    res =[]\n",
    "    seen = set()\n",
    "    \n",
    "    for char in s:\n",
    "        if char not in seen:\n",
    "            seen.add(char)\n",
    "            res.append(char)\n",
    "            \n",
    "    return ''.join(res)"
   ]
  },
  {
   "cell_type": "code",
   "execution_count": 3,
   "metadata": {},
   "outputs": [
    {
     "data": {
      "text/plain": [
       "'tre avsl'"
      ]
     },
     "execution_count": 3,
     "metadata": {},
     "output_type": "execute_result"
    }
   ],
   "source": [
    "removeDuplicates('tree traversal')"
   ]
  },
  {
   "cell_type": "markdown",
   "metadata": {},
   "source": [
    "### find from a list if sum of 2 inetegers is equal to taget"
   ]
  },
  {
   "cell_type": "code",
   "execution_count": 6,
   "metadata": {},
   "outputs": [],
   "source": [
    "def solution(lst,target):\n",
    "    \n",
    "    if len(lst) < 2:\n",
    "        return False\n",
    "    \n",
    "    seen =set()\n",
    "    \n",
    "    for item in lst:\n",
    "        complement = target -item\n",
    "        if complement in seen:\n",
    "            return True\n",
    "        \n",
    "        seen.add(item)\n",
    "    \n",
    "    return False      \n",
    "    \n",
    "    "
   ]
  },
  {
   "cell_type": "code",
   "execution_count": 10,
   "metadata": {},
   "outputs": [
    {
     "data": {
      "text/plain": [
       "True"
      ]
     },
     "execution_count": 10,
     "metadata": {},
     "output_type": "execute_result"
    }
   ],
   "source": [
    "solution([1,2,4,3],3)"
   ]
  },
  {
   "cell_type": "markdown",
   "metadata": {},
   "source": [
    "### Given a list of account ID numbers (integers) which contains duplicates , find the one unique integer. (the list is guaranteed to only have one unique (non-duplicated) integer"
   ]
  },
  {
   "cell_type": "code",
   "execution_count": 27,
   "metadata": {},
   "outputs": [],
   "source": [
    "from collections import defaultdict\n",
    "\n",
    "def uniqueNum(lst):\n",
    "    \n",
    "    \n",
    "    holder = defaultdict(int)\n",
    "    \n",
    "    for item in lst:\n",
    "        holder[item] +=1\n",
    "        \n",
    "    return next((item for item, count in holder.items() if count == 1), None)\n",
    "    \n",
    "    \n",
    "    ## return (list(holder.keys())[list(holder.values()).index(1)])"
   ]
  },
  {
   "cell_type": "code",
   "execution_count": 30,
   "metadata": {},
   "outputs": [
    {
     "data": {
      "text/plain": [
       "28"
      ]
     },
     "execution_count": 30,
     "metadata": {},
     "output_type": "execute_result"
    }
   ],
   "source": [
    "uniqueNum([45,47,47,28,45,47])"
   ]
  },
  {
   "cell_type": "code",
   "execution_count": 18,
   "metadata": {},
   "outputs": [],
   "source": [
    "def findUniqueID(lst):\n",
    "    \n",
    "    uniqueId = 0\n",
    "    \n",
    "    for item in lst:\n",
    "        uniqueId ^= item\n",
    "    \n",
    "    return uniqueId"
   ]
  },
  {
   "cell_type": "code",
   "execution_count": 23,
   "metadata": {},
   "outputs": [
    {
     "data": {
      "text/plain": [
       "28"
      ]
     },
     "execution_count": 23,
     "metadata": {},
     "output_type": "execute_result"
    }
   ],
   "source": [
    "findUniqueID([45,47,47,28,45])"
   ]
  },
  {
   "cell_type": "markdown",
   "metadata": {},
   "source": [
    "### Create a function that takes in a list of unsorted prices (integers) and a maximum possible price value, and return a sorted list of prices"
   ]
  },
  {
   "cell_type": "code",
   "execution_count": 1,
   "metadata": {},
   "outputs": [],
   "source": [
    "def sort_list(unsorted_list, max_val):\n",
    "    \n",
    "    counter_list = [0]*(max_val+1)\n",
    "    sorted_list =[]\n",
    "    \n",
    "    for item in unsorted_list:\n",
    "        counter_list[item] +=1\n",
    "        \n",
    "    for keys,counts in enumerate(counter_list):\n",
    "        print(\"enum: \",keys,counts)\n",
    "        for i in range(counts):\n",
    "                print (\"    inner:i , keys\",i,keys)\n",
    "                sorted_list.append(keys)\n",
    "                \n",
    "    return sorted_list\n",
    "                \n",
    "    "
   ]
  },
  {
   "cell_type": "code",
   "execution_count": 4,
   "metadata": {},
   "outputs": [
    {
     "name": "stdout",
     "output_type": "stream",
     "text": [
      "enum:  0 0\n",
      "enum:  1 1\n",
      "    inner:i , keys 0 1\n",
      "enum:  2 1\n",
      "    inner:i , keys 0 2\n",
      "enum:  3 1\n",
      "    inner:i , keys 0 3\n",
      "enum:  4 0\n",
      "enum:  5 1\n",
      "    inner:i , keys 0 5\n",
      "enum:  6 1\n",
      "    inner:i , keys 0 6\n",
      "enum:  7 1\n",
      "    inner:i , keys 0 7\n",
      "enum:  8 1\n",
      "    inner:i , keys 0 8\n"
     ]
    },
    {
     "data": {
      "text/plain": [
       "[1, 2, 3, 5, 6, 7, 8]"
      ]
     },
     "execution_count": 4,
     "metadata": {},
     "output_type": "execute_result"
    }
   ],
   "source": [
    "sort_list([5,8,2,1,7,3,6],8)"
   ]
  },
  {
   "cell_type": "markdown",
   "metadata": {},
   "source": [
    "### parentheses check"
   ]
  },
  {
   "cell_type": "code",
   "execution_count": 1,
   "metadata": {},
   "outputs": [],
   "source": [
    "def isValidParentheses(str):\n",
    "    \n",
    "    opener = set('({[')\n",
    "    \n",
    "    matcher = set([('(',')'),('[',']'),('{','}')])\n",
    "    \n",
    "    accumulator = []\n",
    "    \n",
    "    for paren in str:\n",
    "        \n",
    "        if paren in opener:\n",
    "            accumulator.append(paren)\n",
    "        elif len(accumulator) == 0:\n",
    "            return False\n",
    "        else:\n",
    "            openerp = accumulator.pop()\n",
    "            if (openerp,paren) not in matcher:\n",
    "                return False\n",
    "            \n",
    "    return len(accumulator) == 0"
   ]
  },
  {
   "cell_type": "code",
   "execution_count": 4,
   "metadata": {},
   "outputs": [
    {
     "data": {
      "text/plain": [
       "False"
      ]
     },
     "execution_count": 4,
     "metadata": {},
     "output_type": "execute_result"
    }
   ],
   "source": [
    "isValidParentheses('({[]}{)')"
   ]
  },
  {
   "cell_type": "markdown",
   "metadata": {},
   "source": [
    "### Cipher encryption"
   ]
  },
  {
   "cell_type": "code",
   "execution_count": 29,
   "metadata": {},
   "outputs": [],
   "source": [
    "def encrypt(s, shift):\n",
    "    \n",
    "    res = ''\n",
    "    \n",
    "    int_arr = []\n",
    "    \n",
    "    \n",
    "    for char in s:\n",
    "        if char.isupper():\n",
    "            res = res + chr((ord(char) + shift - 65)%26 + 65)\n",
    "        elif char.islower():\n",
    "            res = res + chr((ord(char) + shift - 97)%26 + 97)\n",
    "        elif char.isdigit():\n",
    "            res = res + str((int(char) + shift) %10)\n",
    "        else:\n",
    "            res = res + char\n",
    "            \n",
    "            \n",
    "    return res\n",
    "    "
   ]
  },
  {
   "cell_type": "code",
   "execution_count": 28,
   "metadata": {},
   "outputs": [
    {
     "data": {
      "text/plain": [
       "'edwD-6j0'"
      ]
     },
     "execution_count": 28,
     "metadata": {},
     "output_type": "execute_result"
    }
   ],
   "source": [
    "encrypt('batA-3g7', 3)"
   ]
  },
  {
   "cell_type": "markdown",
   "metadata": {},
   "source": [
    "### Cipher Encrpytion Grouping\n",
    "Caesar Cipher Encrpytion\n",
    "You are given a list of string, group them if they are same after using Ceaser Cipher Encrpytion.\n",
    "Definition of \"same\", \"abc\" can right shift 1, get \"bcd\", here you can shift as many time as you want, the string will be considered as same.\n",
    "\n",
    "Input: [\"abc\", \"bcd\", \"acd\", \"dfg\"]\n",
    "Output: [[\"abc\", \"bcd\"], [\"acd\", \"dfg\"]]"
   ]
  },
  {
   "cell_type": "code",
   "execution_count": 13,
   "metadata": {},
   "outputs": [],
   "source": [
    "from collections import defaultdict\n",
    "def group_caesar(inStr):\n",
    "    \n",
    "    res = defaultdict(list)\n",
    "    \n",
    "    for i,word in enumerate(inStr):\n",
    "        pos = [ord(s) for s in word]\n",
    "        minPos = min(pos)\n",
    "        pos = [num - minPos for num in pos]\n",
    "        res[tuple(pos)].append(word)\n",
    "    \n",
    "    return res.values()"
   ]
  },
  {
   "cell_type": "code",
   "execution_count": 15,
   "metadata": {},
   "outputs": [
    {
     "data": {
      "text/plain": [
       "dict_values([['abc', 'bcd', 'def'], ['acd', 'dfg'], ['ace', 'bdf'], ['random']])"
      ]
     },
     "execution_count": 15,
     "metadata": {},
     "output_type": "execute_result"
    }
   ],
   "source": [
    "group_caesar([\"abc\", \"bcd\", \"acd\", \"dfg\", \"ace\", \"bdf\", \"random\",\"def\"])"
   ]
  },
  {
   "cell_type": "code",
   "execution_count": 21,
   "metadata": {},
   "outputs": [
    {
     "data": {
      "text/plain": [
       "True"
      ]
     },
     "execution_count": 21,
     "metadata": {},
     "output_type": "execute_result"
    }
   ],
   "source": [
    "'a'.islower()"
   ]
  },
  {
   "cell_type": "code",
   "execution_count": 30,
   "metadata": {},
   "outputs": [
    {
     "name": "stdout",
     "output_type": "stream",
     "text": [
      "[['abc', 'bcd'], ['acd', 'dfg']]\n"
     ]
    }
   ],
   "source": [
    "from collections import defaultdict\n",
    "a= [\"abc\", \"bcd\", \"acd\", \"dfg\"]\n",
    "mp = defaultdict(list)\n",
    "def con(st):\n",
    "  s = ord(st[0]);ret = str(0)\n",
    "  for ch in st[1:]:\n",
    "    ret += \"-\" + str(ord(ch)-s)\n",
    "  return ret\n",
    "for i in a:\n",
    "  mp[con(i)] += i,\n",
    "print([val for _,val in mp.items()])"
   ]
  },
  {
   "cell_type": "markdown",
   "metadata": {},
   "source": [
    "### Contiguous Subarrays\n",
    "You are given an array a of N integers. For each index i, you are required to determine the number of contiguous subarrays that fulfills the following conditions:\n",
    "The value at index i must be the maximum element in the contiguous subarrays, and\n",
    "These contiguous subarrays must either start from or end on index i.\n",
    "Example:\n",
    "a = [3, 4, 1, 6, 2]\n",
    "output = [1, 3, 1, 5, 1]\n",
    "Explanation:\n",
    "For index 0 - [3] is the only contiguous subarray that starts (or ends) with 3, and the maximum value in this subarray is 3.\n",
    "For index 1 - [4], [3, 4], [4, 1]\n",
    "For index 2 -[1]\n",
    "For index 3 - [6], [6, 2], [1, 6], [4, 1, 6], [3, 4, 1, 6]\n",
    "For index 4 - [2]\n",
    "So, the answer for the above input is [1, 3, 1, 5, 1]"
   ]
  },
  {
   "cell_type": "code",
   "execution_count": 3,
   "metadata": {},
   "outputs": [],
   "source": [
    "def bruteforce_solution(arr): #O(N^2)\n",
    "    # Starts from each index,\n",
    "    # expand towards both directions looking for a larger element.\n",
    "    n = len(arr)\n",
    "    result = [1] * n\n",
    "   # st = []\n",
    "    for i, x in enumerate(arr):\n",
    "        for di in [1, -1]:\n",
    "            step = 1\n",
    "            while 0 <= i+ di*step < n and  arr[i+ di*step] < x:\n",
    "                result[i] += 1\n",
    "                step += 1\n",
    "\n",
    "    return result"
   ]
  },
  {
   "cell_type": "code",
   "execution_count": 4,
   "metadata": {},
   "outputs": [
    {
     "data": {
      "text/plain": [
       "[1, 3, 1, 5, 1]"
      ]
     },
     "execution_count": 4,
     "metadata": {},
     "output_type": "execute_result"
    }
   ],
   "source": [
    "bruteforce_solution( [3, 4, 1, 6, 2] )"
   ]
  },
  {
   "cell_type": "code",
   "execution_count": 27,
   "metadata": {},
   "outputs": [],
   "source": [
    "def stack_solution(arr): #O(N)\n",
    "    # this solution uses Stacks. Every index starts with n possibilities.\n",
    "    # Using stack, going from left to right, we remove the subarrays that\n",
    "    # doesn't satisify the problem condition at this line:\n",
    "    # 'result[st.pop()] -= n-i'\n",
    "    # Then we do it again from right to left.\n",
    "    n = len(arr)\n",
    "    result = [n] * n\n",
    "    st = []\n",
    "    for i, x in enumerate(arr):\n",
    "        while st and x >= arr[st[-1]]:\n",
    "            \n",
    "          #  print(\"x,arr[st[-1]]\",x, arr[st[-1]])\n",
    "          #  print(\"n-i: \" , n-i)\n",
    "            result[st.pop()] -= n-i\n",
    "            print(\"result LR - now: \",result)\n",
    "        st.append(i)\n",
    "    st.clear()\n",
    "    for i, x in reversed(list(enumerate(arr))):\n",
    "        print(i,x)\n",
    "        print(\"st: \",st)\n",
    "        print(\"result: \",result)\n",
    "        while st and x >= arr[st[-1]]:\n",
    "            print(\"x,arr[st[-1]]\",x, arr[st[-1]])\n",
    "            print(\"i+1: \" , i+1)\n",
    "            result[st.pop()] -= i+1\n",
    "            print(\"result RL - now: \",result)\n",
    "        st.append(i)\n",
    "        print(\"st after: \",st)\n",
    "    return result"
   ]
  },
  {
   "cell_type": "code",
   "execution_count": 28,
   "metadata": {},
   "outputs": [
    {
     "name": "stdout",
     "output_type": "stream",
     "text": [
      "result LR - now:  [1, 5, 5, 5, 5]\n",
      "result LR - now:  [1, 5, 3, 5, 5]\n",
      "result LR - now:  [1, 3, 3, 5, 5]\n",
      "4 2\n",
      "st:  []\n",
      "result:  [1, 3, 3, 5, 5]\n",
      "st after:  [4]\n",
      "3 6\n",
      "st:  [4]\n",
      "result:  [1, 3, 3, 5, 5]\n",
      "x,arr[st[-1]] 6 2\n",
      "i+1:  4\n",
      "result RL - now:  [1, 3, 3, 5, 1]\n",
      "st after:  [3]\n",
      "2 1\n",
      "st:  [3]\n",
      "result:  [1, 3, 3, 5, 1]\n",
      "st after:  [3, 2]\n",
      "1 4\n",
      "st:  [3, 2]\n",
      "result:  [1, 3, 3, 5, 1]\n",
      "x,arr[st[-1]] 4 1\n",
      "i+1:  2\n",
      "result RL - now:  [1, 3, 1, 5, 1]\n",
      "st after:  [3, 1]\n",
      "0 3\n",
      "st:  [3, 1]\n",
      "result:  [1, 3, 1, 5, 1]\n",
      "st after:  [3, 1, 0]\n"
     ]
    },
    {
     "data": {
      "text/plain": [
       "[1, 3, 1, 5, 1]"
      ]
     },
     "execution_count": 28,
     "metadata": {},
     "output_type": "execute_result"
    }
   ],
   "source": [
    "stack_solution( [3, 4, 1, 6, 2] )"
   ]
  },
  {
   "cell_type": "code",
   "execution_count": 49,
   "metadata": {},
   "outputs": [],
   "source": [
    "def sol(arr):\n",
    "    arr_len = len(arr)\n",
    "    res = [1]*arr_len\n",
    "    \n",
    "    for i,num in enumerate(arr):\n",
    "        for di in [1, -1]:\n",
    "            step =1\n",
    "         #   print(\"i: {}, num:{}, di:{}\".format(i,num,di))\n",
    "         #   print(\"Outer -> i+di*step: {}, value: {}\".format(i+di*step, arr[i+di*step]))\n",
    "            while 0 <= i+di*step < arr_len and  arr[i+di*step] < num:\n",
    "          #      print(\"inner -> i+di*step\",i+di*step)\n",
    "                res[i] +=1\n",
    "                step +=1\n",
    "    return res\n",
    "    "
   ]
  },
  {
   "cell_type": "code",
   "execution_count": 50,
   "metadata": {},
   "outputs": [
    {
     "data": {
      "text/plain": [
       "[1, 3, 1, 5, 1]"
      ]
     },
     "execution_count": 50,
     "metadata": {},
     "output_type": "execute_result"
    }
   ],
   "source": [
    "sol( [3, 4, 1, 6, 2])"
   ]
  },
  {
   "cell_type": "markdown",
   "metadata": {},
   "source": [
    "### Integer to English Words\n",
    "Convert a non-negative integer to its english words representation. Given input is guaranteed to be less than 231 - 1.\n",
    "Input: 123\n",
    "Output: \"One Hundred Twenty Three\""
   ]
  },
  {
   "cell_type": "code",
   "execution_count": 53,
   "metadata": {},
   "outputs": [],
   "source": [
    "class NumToWords(object):\n",
    "    \n",
    "    def translate(self,num):\n",
    "        \"\"\"\n",
    "        :type num: int\n",
    "        :rtype: str\n",
    "        \"\"\"\n",
    "        \n",
    "        def one(num):\n",
    "            switcher = {\n",
    "                1: 'One',\n",
    "                2: 'Two',\n",
    "                3: 'Three',\n",
    "                4: 'Four',\n",
    "                5: 'Five',\n",
    "                6: 'Six',\n",
    "                7: 'Seven',\n",
    "                8: 'Eight',\n",
    "                9: 'Nine'\n",
    "            }\n",
    "            return switcher.get(num)\n",
    "\n",
    "        def two_less_20(num):\n",
    "            switcher = {\n",
    "                10: 'Ten',\n",
    "                11: 'Eleven',\n",
    "                12: 'Twelve',\n",
    "                13: 'Thirteen',\n",
    "                14: 'Fourteen',\n",
    "                15: 'Fifteen',\n",
    "                16: 'Sixteen',\n",
    "                17: 'Seventeen',\n",
    "                18: 'Eighteen',\n",
    "                19: 'Nineteen'\n",
    "            }\n",
    "            return switcher.get(num)\n",
    "        \n",
    "        def ten(num):\n",
    "            switcher = {\n",
    "                2: 'Twenty',\n",
    "                3: 'Thirty',\n",
    "                4: 'Forty',\n",
    "                5: 'Fifty',\n",
    "                6: 'Sixty',\n",
    "                7: 'Seventy',\n",
    "                8: 'Eighty',\n",
    "                9: 'Ninety'\n",
    "            }\n",
    "            return switcher.get(num)\n",
    "        \n",
    "\n",
    "        def two(num):\n",
    "            if not num:\n",
    "                return ''\n",
    "            elif num < 10:\n",
    "                return one(num)\n",
    "            elif num < 20:\n",
    "                return two_less_20(num)\n",
    "            else:\n",
    "                tenner = num // 10\n",
    "                rest = num - tenner * 10\n",
    "                return ten(tenner) + ' ' + one(rest) if rest else ten(tenner)\n",
    "        \n",
    "        def three(num):\n",
    "            hundred = num // 100\n",
    "            rest = num - hundred * 100\n",
    "            if hundred and rest:\n",
    "                return one(hundred) + ' Hundred ' + two(rest) \n",
    "            elif not hundred and rest: \n",
    "                return two(rest)\n",
    "            elif hundred and not rest:\n",
    "                return one(hundred) + ' Hundred'\n",
    "        \n",
    "        billion = num // 1000000000\n",
    "        million = (num - billion * 1000000000) // 1000000\n",
    "        thousand = (num - billion * 1000000000 - million * 1000000) // 1000\n",
    "        rest = num - billion * 1000000000 - million * 1000000 - thousand * 1000\n",
    "        \n",
    "        if not num:\n",
    "            return 'Zero'\n",
    "        \n",
    "        result = ''\n",
    "        if billion:        \n",
    "            result = three(billion) + ' Billion'\n",
    "        if million:\n",
    "            result += ' ' if result else ''    \n",
    "            result += three(million) + ' Million'\n",
    "        if thousand:\n",
    "            result += ' ' if result else ''\n",
    "            result += three(thousand) + ' Thousand'\n",
    "        if rest:\n",
    "            result += ' ' if result else ''\n",
    "            result += three(rest)\n",
    "        return result"
   ]
  },
  {
   "cell_type": "markdown",
   "metadata": {},
   "source": [
    "##### Complexity Analysis\n",
    "\n",
    "Time complexity : O(N). Intuitively the output is proportional to the number N of digits in the input.\n",
    "Space complexity :O(1) since the output is just a string."
   ]
  },
  {
   "cell_type": "code",
   "execution_count": 67,
   "metadata": {},
   "outputs": [
    {
     "data": {
      "text/plain": [
       "'Four Thousand One Hundred Two'"
      ]
     },
     "execution_count": 67,
     "metadata": {},
     "output_type": "execute_result"
    }
   ],
   "source": [
    "n = NumToWords()\n",
    "n.translate(4102)"
   ]
  },
  {
   "cell_type": "markdown",
   "metadata": {},
   "source": [
    "### Matching Pairs\n",
    "Given two strings s and t of length N, find the maximum number of possible matching pairs in strings s and t after swapping exactly two characters within s.\n",
    "A swap is switching s[i] and s[j], where s[i] and s[j] denotes the character that is present at the ith and jth index of s, respectively. The matching pairs of the two strings are defined as the number of indices for which s[i] and t[i] are equal.\n",
    "Note: This means you must swap two characters at different indices.\n",
    "    \n",
    "Example 1\n",
    "\n",
    "s = \"abcd\"\n",
    "t = \"adcb\"\n",
    "output = 4\n",
    "\n",
    "Explanation:\n",
    "Using 0-based indexing, and with i = 1 and j = 3, s[1] and s[3] can be swapped, making it  \"adcb\".\n",
    "Therefore, the number of matching pairs of s and t will be 4."
   ]
  },
  {
   "cell_type": "code",
   "execution_count": 4,
   "metadata": {},
   "outputs": [],
   "source": [
    "from collections import defaultdict\n",
    "def matching_pairs(s, t):\n",
    "    \n",
    "    \n",
    "    base =0 # matched count\n",
    "    matched = defaultdict(int) #matched charset\n",
    "    mismatched =[] # mismatched indices\n",
    "    \n",
    "    for i,(c1,c2) in enumerate(zip(s,t)):\n",
    "        if c1 == c2:\n",
    "            base +=1\n",
    "            matched[c1] +=1\n",
    "        else: \n",
    "            mismatched.append(i)\n",
    "    \n",
    "    # if all matched and all chars are unique, any swap will result in -2\n",
    "    if not mismatched and len(matched) == base:\n",
    "        return base -2\n",
    "    \n",
    "    # perfect swap for (c1, c2) if (c2, c1) is also a mismatch\n",
    "    paired = set()\n",
    "    for i in mismatched:\n",
    "        if (s[i], t[i]) in paired: \n",
    "            return base + 2\n",
    "        paired.add((t[i], s[i]))\n",
    "\n",
    "    # swapping at least one char into place\n",
    "    seen = defaultdict(lambda: set())\n",
    "    for i in mismatched:\n",
    "        #seen.add(t[i])\n",
    "        seen[t[i]].add(i)\n",
    "    if any((s[i] in seen and i not in seen[s[i]])for i in mismatched):\n",
    "            return base + 1\n",
    "        \n",
    "    \n",
    "    # check if neutral swaps exists\n",
    "    if len(mismatched) >= 2 or \\\n",
    "        any(s[i] in matched for i in mismatched) or \\\n",
    "        any(count >= 2 for count in matched.values()):\n",
    "        return base\n",
    "    \n",
    "    return base - 1\n",
    "    \n",
    "        \n",
    "            "
   ]
  },
  {
   "cell_type": "code",
   "execution_count": 106,
   "metadata": {},
   "outputs": [
    {
     "data": {
      "text/plain": [
       "4"
      ]
     },
     "execution_count": 106,
     "metadata": {},
     "output_type": "execute_result"
    }
   ],
   "source": [
    "s = \"abcdef\"\n",
    "t = \"adcbfe\"\n",
    "matching_pairs(s,t)"
   ]
  },
  {
   "cell_type": "code",
   "execution_count": 5,
   "metadata": {},
   "outputs": [
    {
     "data": {
      "text/plain": [
       "4"
      ]
     },
     "execution_count": 5,
     "metadata": {},
     "output_type": "execute_result"
    }
   ],
   "source": [
    "s = \"mnoed\"\n",
    "t = \"mnofe\"\n",
    "matching_pairs(s,t)"
   ]
  },
  {
   "cell_type": "markdown",
   "metadata": {},
   "source": [
    "### alien dictionalry\n",
    "In an alien language, surprisingly they also use english lowercase letters, but possibly in a different order. The order of the alphabet is some permutation of lowercase letters.\n",
    "\n",
    "Given a sequence of words written in the alien language, and the order of the alphabet, return true if and only if the given words are sorted lexicographicaly in this alien language.\n",
    "\n",
    "Input: words = [\"hello\",\"leetcode\"], order = \"hlabcdefgijkmnopqrstuvwxyz\"\n",
    "    \n",
    "Output: true\n",
    "    \n",
    "Explanation: As 'h' comes before 'l' in this language, then the sequence is sorted.\n",
    "    "
   ]
  },
  {
   "cell_type": "code",
   "execution_count": 8,
   "metadata": {},
   "outputs": [],
   "source": [
    "def isAlienSorted( words, order):\n",
    "        order_index = {c: i for i, c in enumerate(order)}\n",
    "        print(order_index)\n",
    "\n",
    "        for i in range(len(words) - 1):\n",
    "            word1 = words[i]\n",
    "            word2 = words[i+1]\n",
    "\n",
    "            # Find the first difference word1[k] != word2[k].\n",
    "            for k in range(min(len(word1), len(word2))):\n",
    "                # If they compare badly, it's not sorted.\n",
    "                if word1[k] != word2[k]:\n",
    "                    if order_index[word1[k]] > order_index[word2[k]]:\n",
    "                        return False\n",
    "                    break\n",
    "                else:\n",
    "                # If we didn't find a first difference, the\n",
    "                # words are like (\"app\", \"apple\").\n",
    "                    if len(word1) > len(word2):\n",
    "                        return False\n",
    "\n",
    "        return True"
   ]
  },
  {
   "cell_type": "code",
   "execution_count": 16,
   "metadata": {},
   "outputs": [
    {
     "name": "stdout",
     "output_type": "stream",
     "text": [
      "{'h': 0, 'l': 1, 'a': 2, 'b': 3, 'c': 4, 'd': 5, 'e': 6, 'f': 7, 'g': 8, 'i': 9, 'j': 10, 'k': 11, 'm': 12, 'n': 13, 'o': 14, 'p': 15, 'q': 16, 'r': 17, 's': 18, 't': 19, 'u': 20, 'v': 21, 'w': 22, 'x': 23, 'y': 24, 'z': 25}\n"
     ]
    },
    {
     "data": {
      "text/plain": [
       "False"
      ]
     },
     "execution_count": 16,
     "metadata": {},
     "output_type": "execute_result"
    }
   ],
   "source": [
    "words = [\"app\",\"apple\"]\n",
    "order = \"hlabcdefgijkmnopqrstuvwxyz\"\n",
    "isAlienSorted( words, order)\n"
   ]
  },
  {
   "cell_type": "markdown",
   "metadata": {},
   "source": [
    "### add strings"
   ]
  },
  {
   "cell_type": "code",
   "execution_count": 21,
   "metadata": {},
   "outputs": [],
   "source": [
    "class Solution(object):\n",
    "    def addStrings(self, num1, num2):\n",
    "        \"\"\"\n",
    "        :type num1: str\n",
    "        :type num2: str\n",
    "        :rtype: str\n",
    "        \"\"\"\n",
    "        \n",
    "        if num1 == \"0\" and num2 == \"0\":\n",
    "            return \"0\"\n",
    "        \n",
    "        s = self.convertToInt(num1) + self.convertToInt(num2)\n",
    "        return self.convertToStr(s)\n",
    "        \n",
    "    def convertToInt(self, num):\n",
    "        s = 0\n",
    "        for i in range(len(num)):\n",
    "            print(\"i, ord(num[i]), len(num):\",i, ord(num[i]),len(num))\n",
    "            s += (ord(num[i]) - ord('0')) * (10 ** (len(num) - i - 1))\n",
    "        return s\n",
    "    \n",
    "    def convertToStr(self, num):\n",
    "        res = []\n",
    "        while num:\n",
    "            num, rem = divmod(num, 10)\n",
    "            res.append(chr(rem + ord('0')))\n",
    "        return ''.join(res[::-1])"
   ]
  },
  {
   "cell_type": "code",
   "execution_count": 22,
   "metadata": {},
   "outputs": [
    {
     "name": "stdout",
     "output_type": "stream",
     "text": [
      "i, ord(num[i]), len(num): 0 50 2\n",
      "i, ord(num[i]), len(num): 1 51 2\n",
      "i, ord(num[i]), len(num): 0 52 2\n",
      "i, ord(num[i]), len(num): 1 53 2\n"
     ]
    },
    {
     "data": {
      "text/plain": [
       "'68'"
      ]
     },
     "execution_count": 22,
     "metadata": {},
     "output_type": "execute_result"
    }
   ],
   "source": [
    "s = Solution()\n",
    "s.addStrings('23','45')"
   ]
  },
  {
   "cell_type": "markdown",
   "metadata": {},
   "source": [
    "### Partition Equal Subset Sum\n",
    "Given a non-empty array containing only positive integers, find if the array can be partitioned into two subsets such that the sum of elements in both subsets is equal.\n",
    "\n",
    "Input: [1, 5, 11, 5]\n",
    "\n",
    "Output: true\n",
    "\n",
    "Explanation: The array can be partitioned as [1, 5, 5] and [11]."
   ]
  },
  {
   "cell_type": "code",
   "execution_count": 32,
   "metadata": {},
   "outputs": [],
   "source": [
    "class Solution:\n",
    "    def isSubsetSumK(self, nums : [int], k : int) -> bool:\n",
    "        dp = set()\n",
    "        for i in range(len(nums)):\n",
    "            t = set(dp)\n",
    "            t.add(nums[i])\n",
    "            print(\"set t :\",t)\n",
    "            for j in dp:\n",
    "                t.add(j + nums[i])\n",
    "                print(\"inside j set t :\",t)\n",
    "            dp = set(t)\n",
    "            print(\"set dp :\",dp)\n",
    "        return k in dp\n",
    "    \n",
    "    def canPartition(self, nums: [int]) -> bool:\n",
    "        if sum(nums) % 2 != 0:\n",
    "            return False\n",
    "        return self.isSubsetSumK(nums, sum(nums) // 2)"
   ]
  },
  {
   "cell_type": "code",
   "execution_count": 33,
   "metadata": {},
   "outputs": [
    {
     "name": "stdout",
     "output_type": "stream",
     "text": [
      "set t : {1}\n",
      "set dp : {1}\n",
      "set t : {1, 5}\n",
      "inside j set t : {1, 5, 6}\n",
      "set dp : {1, 5, 6}\n",
      "set t : {1, 5, 6, 9}\n",
      "inside j set t : {1, 5, 6, 9, 10}\n",
      "inside j set t : {1, 5, 6, 9, 10, 14}\n",
      "inside j set t : {1, 5, 6, 9, 10, 14, 15}\n",
      "set dp : {1, 5, 6, 9, 10, 14, 15}\n",
      "set t : {1, 5, 6, 9, 10, 14, 15}\n",
      "inside j set t : {1, 5, 6, 9, 10, 14, 15}\n",
      "inside j set t : {1, 5, 6, 9, 10, 14, 15}\n",
      "inside j set t : {1, 5, 6, 9, 10, 11, 14, 15}\n",
      "inside j set t : {1, 5, 6, 9, 10, 11, 14, 15}\n",
      "inside j set t : {1, 5, 6, 9, 10, 11, 14, 15}\n",
      "inside j set t : {1, 5, 6, 9, 10, 11, 14, 15, 19}\n",
      "inside j set t : {1, 5, 6, 9, 10, 11, 14, 15, 19, 20}\n",
      "set dp : {1, 5, 6, 9, 10, 11, 14, 15, 19, 20}\n"
     ]
    },
    {
     "data": {
      "text/plain": [
       "True"
      ]
     },
     "execution_count": 33,
     "metadata": {},
     "output_type": "execute_result"
    }
   ],
   "source": [
    "s = Solution()\n",
    "s.canPartition([1, 5, 9, 5])"
   ]
  },
  {
   "cell_type": "markdown",
   "metadata": {},
   "source": [
    "### power(x,n)\n",
    "x is float , n is non-negative int\n"
   ]
  },
  {
   "cell_type": "code",
   "execution_count": 6,
   "metadata": {},
   "outputs": [],
   "source": [
    "def power(x,n):\n",
    "    \n",
    "    if (n==0):\n",
    "        return 1\n",
    "    \n",
    "    if (n==1):\n",
    "        return x\n",
    "    \n",
    "    half = power(x, n // 2);\n",
    "    \n",
    "    if (n % 2 == 0):\n",
    "        return half * half;\n",
    "    else: \n",
    "        return half * half * x;\n",
    "    "
   ]
  },
  {
   "cell_type": "code",
   "execution_count": 9,
   "metadata": {},
   "outputs": [
    {
     "data": {
      "text/plain": [
       "32"
      ]
     },
     "execution_count": 9,
     "metadata": {},
     "output_type": "execute_result"
    }
   ],
   "source": [
    "power(2,5)"
   ]
  },
  {
   "cell_type": "code",
   "execution_count": null,
   "metadata": {},
   "outputs": [],
   "source": []
  }
 ],
 "metadata": {
  "kernelspec": {
   "display_name": "Python 3",
   "language": "python",
   "name": "python3"
  },
  "language_info": {
   "codemirror_mode": {
    "name": "ipython",
    "version": 3
   },
   "file_extension": ".py",
   "mimetype": "text/x-python",
   "name": "python",
   "nbconvert_exporter": "python",
   "pygments_lexer": "ipython3",
   "version": "3.7.6"
  }
 },
 "nbformat": 4,
 "nbformat_minor": 4
}
