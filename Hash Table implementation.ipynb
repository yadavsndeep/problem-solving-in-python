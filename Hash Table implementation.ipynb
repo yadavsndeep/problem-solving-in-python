{
 "cells": [
  {
   "cell_type": "markdown",
   "metadata": {},
   "source": [
    "### Hash Table implementation"
   ]
  },
  {
   "cell_type": "code",
   "execution_count": 10,
   "metadata": {},
   "outputs": [],
   "source": [
    "class HashTable(object):\n",
    "    \n",
    "    def __init__(self,size):\n",
    "        \n",
    "        # Set up size and slots and data\n",
    "        self.size = size\n",
    "        self.data = [None] * size\n",
    "        self.slots = [None] * size\n",
    "        \n",
    "    def put(self, key, data):\n",
    "        \n",
    "        # Get the hash value\n",
    "        hashVal = self.hashElement(key,len(self.slots))\n",
    "        \n",
    "        # If Slot is Empty\n",
    "        if self.slots[hashVal] == None:\n",
    "            self.slots[hashVal] = key\n",
    "            self.data[hashVal] = data\n",
    "            \n",
    "        else:\n",
    "            # If key already exists, replace old value\n",
    "            if self.slots[hashVal] == key:\n",
    "                self.data[hashVal] = data\n",
    "            \n",
    "            # Otherwise, find the next available slot    \n",
    "            else:\n",
    "                # Get to the next slot\n",
    "                nextSlot = self.reHashElement(hashVal,len(self.slots))\n",
    "            \n",
    "                while self.slots[nextSlot] != None and self.slots[nextSlot] != key:\n",
    "                    nextSlot = self.reHashElement(nextSlot,len(self.slots))\n",
    "                \n",
    "                 # Set new key, if NONE\n",
    "                if self.slots[nextSlot] == None:\n",
    "                    self.slots[nextSlot] = key\n",
    "                    self.data[nextSlot] = data\n",
    "                \n",
    "                else:\n",
    "                     # Otherwise replace old value\n",
    "                    self.data[nextSlot] = data\n",
    "            \n",
    "    \n",
    "    \n",
    "    def hashElement(self, key, size):\n",
    "        return key%size\n",
    "    \n",
    "    def reHashElement(oldHash,size):\n",
    "        # finding next possible postion\n",
    "        return (oldHash+1)%size\n",
    "    \n",
    "    def get(self, key):\n",
    "        \n",
    "        startSlot = self.hashElement(key, len(self.slots))\n",
    "        found = False\n",
    "        data = None\n",
    "        position = startSlot\n",
    "        stop = False\n",
    "        \n",
    "        # check if avaialble at hash\n",
    "        while self.slots[position] != None and not found and not stop:\n",
    "            if self.slots[position] == key :\n",
    "                data = self.data[position]\n",
    "                found = True\n",
    "               \n",
    "             # check at rehash\n",
    "            else :\n",
    "                position = self.reHashElement(position,size)\n",
    "                if position == startSlot:\n",
    "                    stop = True\n",
    "        return data\n",
    "        \n",
    "        \n",
    "       \n",
    "        \n",
    "        # Special Methods for use with Python indexing\n",
    "    def __getitem__(self,key):\n",
    "        return self.get(key)\n",
    "\n",
    "    def __setitem__(self,key,data):\n",
    "        self.put(key,data)\n",
    "    "
   ]
  },
  {
   "cell_type": "code",
   "execution_count": 12,
   "metadata": {},
   "outputs": [],
   "source": [
    "h = HashTable(5)"
   ]
  },
  {
   "cell_type": "code",
   "execution_count": 13,
   "metadata": {},
   "outputs": [],
   "source": [
    "h[1] = 'one'"
   ]
  },
  {
   "cell_type": "code",
   "execution_count": 14,
   "metadata": {},
   "outputs": [],
   "source": [
    "h[2] = 'two'"
   ]
  },
  {
   "cell_type": "code",
   "execution_count": 15,
   "metadata": {},
   "outputs": [],
   "source": [
    "h[3] = 'three'"
   ]
  },
  {
   "cell_type": "code",
   "execution_count": 16,
   "metadata": {},
   "outputs": [
    {
     "data": {
      "text/plain": [
       "'one'"
      ]
     },
     "execution_count": 16,
     "metadata": {},
     "output_type": "execute_result"
    }
   ],
   "source": [
    "h[1]"
   ]
  },
  {
   "cell_type": "code",
   "execution_count": 17,
   "metadata": {},
   "outputs": [
    {
     "data": {
      "text/plain": [
       "'two'"
      ]
     },
     "execution_count": 17,
     "metadata": {},
     "output_type": "execute_result"
    }
   ],
   "source": [
    "h[2]"
   ]
  },
  {
   "cell_type": "code",
   "execution_count": null,
   "metadata": {},
   "outputs": [],
   "source": []
  }
 ],
 "metadata": {
  "kernelspec": {
   "display_name": "Python 3",
   "language": "python",
   "name": "python3"
  },
  "language_info": {
   "codemirror_mode": {
    "name": "ipython",
    "version": 3
   },
   "file_extension": ".py",
   "mimetype": "text/x-python",
   "name": "python",
   "nbconvert_exporter": "python",
   "pygments_lexer": "ipython3",
   "version": "3.7.6"
  }
 },
 "nbformat": 4,
 "nbformat_minor": 4
}
