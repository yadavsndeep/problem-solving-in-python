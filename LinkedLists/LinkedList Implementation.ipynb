{
 "cells": [
  {
   "cell_type": "code",
   "execution_count": null,
   "metadata": {},
   "outputs": [],
   "source": [
    "class Node(object):\n",
    "    \n",
    "    def __init__(self, value= None, next_node= None):\n",
    "        self.value = value\n",
    "        self.next_node = next_node\n",
    "        \n",
    "    def get_data(self):\n",
    "        return self.value\n",
    "    \n",
    "    def get_next(self):\n",
    "        return self.next_node\n",
    "        \n",
    "    def set_next(self, new_next):\n",
    "        self.next_node = new_next"
   ]
  },
  {
   "cell_type": "code",
   "execution_count": null,
   "metadata": {},
   "outputs": [],
   "source": [
    "class LinkedList(object):\n",
    "    \n",
    "    def __init__(self,head = None):\n",
    "        self.head = head\n",
    "        \n",
    "    def insert(self, data):\n",
    "        new_node = Node(data)\n",
    "        print(\"new node created\")\n",
    "        print(new_node)\n",
    "        new_node.set_next(self.head)\n",
    "        self.head= new_node\n",
    "        print(self.head)\n",
    "        \n",
    "    def size(self):\n",
    "        current = self.head\n",
    "        counter = 0\n",
    "        while current:\n",
    "            counter +=1\n",
    "            current = current.get_next()\n",
    "            \n",
    "        return counter\n",
    "    \n",
    "    def search(self, data):\n",
    "        current = self.head\n",
    "        found= False\n",
    "        while current and found is False:\n",
    "            if (current.get_data() == data):\n",
    "                found = True\n",
    "            else:\n",
    "                current = current.get_next()\n",
    "        if current is None:        \n",
    "            raise ValueError(\"Data not in list\")  \n",
    "        return current\n",
    "        \n",
    "    def delete(self, data):\n",
    "        current = self.head\n",
    "        prev_node = None\n",
    "        found = False\n",
    "        \n",
    "        while current and found is False :\n",
    "            if (current.get_data() == data):\n",
    "                found = True\n",
    "            else:\n",
    "                prev_node = current\n",
    "                current = current.get_next()\n",
    "                \n",
    "        if current is None:\n",
    "            raise ValueError(\"Data not in list\")  \n",
    "        \n",
    "        if prev_node is None:\n",
    "            self.head = current.get_next()\n",
    "        else:\n",
    "            prev_node.set_next(current.get_next())\n",
    "        \n",
    "            \n",
    "        "
   ]
  },
  {
   "cell_type": "code",
   "execution_count": null,
   "metadata": {},
   "outputs": [],
   "source": [
    "l = LinkedList()"
   ]
  },
  {
   "cell_type": "code",
   "execution_count": null,
   "metadata": {},
   "outputs": [],
   "source": [
    "l.size()"
   ]
  },
  {
   "cell_type": "code",
   "execution_count": null,
   "metadata": {},
   "outputs": [],
   "source": [
    "l.insert(1)\n",
    "l.insert(2)\n",
    "l.insert(4)\n",
    "l.insert(7)"
   ]
  },
  {
   "cell_type": "code",
   "execution_count": null,
   "metadata": {},
   "outputs": [],
   "source": [
    "l.size()"
   ]
  },
  {
   "cell_type": "code",
   "execution_count": null,
   "metadata": {},
   "outputs": [],
   "source": [
    "l.size()"
   ]
  },
  {
   "cell_type": "code",
   "execution_count": null,
   "metadata": {},
   "outputs": [],
   "source": [
    "l.search(4)"
   ]
  },
  {
   "cell_type": "code",
   "execution_count": null,
   "metadata": {},
   "outputs": [],
   "source": [
    "l.delete(7)"
   ]
  },
  {
   "cell_type": "code",
   "execution_count": null,
   "metadata": {},
   "outputs": [],
   "source": [
    "l.size()"
   ]
  },
  {
   "cell_type": "markdown",
   "metadata": {},
   "source": [
    "### Add Two Numbers\n",
    "You are given two non-empty linked lists representing two non-negative integers. The digits are stored in reverse order and each of their nodes contain a single digit. Add the two numbers and return it as a linked list.\n",
    "\n",
    "You may assume the two numbers do not contain any leading zero, except the number 0 itself.\n",
    "\n",
    "Input: (2 -> 4 -> 3) + (5 -> 6 -> 4)\n",
    "Output: 7 -> 0 -> 8\n",
    "Explanation: 342 + 465 = 807.\n",
    "    \n"
   ]
  },
  {
   "cell_type": "code",
   "execution_count": 5,
   "metadata": {},
   "outputs": [],
   "source": [
    "class ListNode(object):\n",
    "    def __init__(self,val=0,next=None):\n",
    "        self.val = val\n",
    "        self.next = next\n",
    "\n"
   ]
  },
  {
   "cell_type": "code",
   "execution_count": 6,
   "metadata": {},
   "outputs": [],
   "source": [
    "l1= ListNode(2,ListNode(4,ListNode(3)))\n",
    "l2= ListNode(5,ListNode(6,ListNode(4)))"
   ]
  },
  {
   "cell_type": "code",
   "execution_count": 17,
   "metadata": {},
   "outputs": [],
   "source": [
    "class Solution(object):\n",
    "    def addTwoNumbers(self,l1: ListNode, l2: ListNode) -> ListNode:\n",
    "        \n",
    "        result = ListNode(0)\n",
    "        res_tail = result\n",
    "        carry = 0\n",
    "        \n",
    "        while l1 or l2 or carry :\n",
    "            val1 = (l1.val if l1 else 0)\n",
    "            val2 = (l2.val if l2 else 0)\n",
    "            \n",
    "            carry , out = divmod(val1+val2+carry, 10)\n",
    "            \n",
    "            res_tail.next = ListNode(out)\n",
    "            res_tail = res_tail.next\n",
    "            \n",
    "            l1= (l1.next if l1 else None)\n",
    "            l2= (l2.next if l2 else None)\n",
    "            \n",
    "        return result.next\n",
    "    \n",
    "     \n",
    "    def printList(self,nodeStart,res = []):\n",
    "        res.append(nodeStart.val)\n",
    "       # print(nodeStart.val)\n",
    "        if nodeStart.next == None:\n",
    "            print(res)\n",
    "            return\n",
    "        else:\n",
    "            self.printList(nodeStart.next, res)\n",
    "            \n",
    " #   def evalt(self,l1 , l2):\n",
    " #       self.printList(self.addTwoNumbers(l1,l2))\n",
    "        "
   ]
  },
  {
   "cell_type": "code",
   "execution_count": 18,
   "metadata": {},
   "outputs": [
    {
     "name": "stdout",
     "output_type": "stream",
     "text": [
      "[7, 0, 8]\n"
     ]
    }
   ],
   "source": [
    "s= Solution()\n",
    "result_sum = s.addTwoNumbers(l1,l2)\n",
    "#s.evalt(l1,l2)\n",
    "s.printList(result_sum)"
   ]
  },
  {
   "cell_type": "code",
   "execution_count": 15,
   "metadata": {},
   "outputs": [],
   "source": [
    "class Solution1(object):\n",
    "    def to_num(self, l1):\n",
    "        n1 = 0\n",
    "        mul = 1\n",
    "        while l1 != None:\n",
    "            n1 = l1.val * mul + n1\n",
    "            mul *= 10\n",
    "            l1 = l1.next\n",
    "        return n1\n",
    "\n",
    "    def addTwoNumbers(self, l1, l2):\n",
    "        return str(self.to_num(l1) + self.to_num(l2))"
   ]
  },
  {
   "cell_type": "code",
   "execution_count": 16,
   "metadata": {},
   "outputs": [],
   "source": [
    "s= Solution1()\n",
    "result_sum = s.addTwoNumbers(l1,l2)\n",
    "#s.evalt(l1,l2)\n",
    "#s.printList(result_sum)\n"
   ]
  },
  {
   "cell_type": "code",
   "execution_count": 17,
   "metadata": {},
   "outputs": [
    {
     "name": "stdout",
     "output_type": "stream",
     "text": [
      "807\n"
     ]
    }
   ],
   "source": [
    "print(result_sum)"
   ]
  },
  {
   "cell_type": "code",
   "execution_count": null,
   "metadata": {},
   "outputs": [],
   "source": []
  }
 ],
 "metadata": {
  "kernelspec": {
   "display_name": "Python 3",
   "language": "python",
   "name": "python3"
  },
  "language_info": {
   "codemirror_mode": {
    "name": "ipython",
    "version": 3
   },
   "file_extension": ".py",
   "mimetype": "text/x-python",
   "name": "python",
   "nbconvert_exporter": "python",
   "pygments_lexer": "ipython3",
   "version": "3.7.6"
  }
 },
 "nbformat": 4,
 "nbformat_minor": 4
}
