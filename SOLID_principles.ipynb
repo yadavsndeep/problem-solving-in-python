{
 "cells": [
  {
   "cell_type": "code",
   "execution_count": 22,
   "metadata": {},
   "outputs": [],
   "source": [
    "class Album():\n",
    "    def __init__(self, name, artist, songs, genre) -> None:\n",
    "        self.name = name\n",
    "        self.artist = artist\n",
    "        self.songs = songs\n",
    "        self.genre = genre\n",
    "        \n",
    "    def add_song(self, song):\n",
    "        self.songs.append(song)\n",
    "        \n",
    "        \n",
    "    def remove_song(self, song):\n",
    "        self.songs.remove(song)\n",
    "        \n",
    "    \n",
    "    def __str__(self) -> str:\n",
    "        return f\"Album {self.name} by {self.artist} in {self.genre}\\nTracklist:\\n {self.songs}\"\n",
    "        \n",
    "    \n",
    "        \n",
    "        "
   ]
  },
  {
   "cell_type": "code",
   "execution_count": 24,
   "metadata": {},
   "outputs": [],
   "source": [
    "al1 = Album(\"the last one\",\"Linkin Park\", \"In the end - Resynced\", \"Rock\")"
   ]
  },
  {
   "cell_type": "code",
   "execution_count": 35,
   "metadata": {},
   "outputs": [
    {
     "name": "stdout",
     "output_type": "stream",
     "text": [
      "Album the last one by Linkin Park in Rock\n",
      "Tracklist:\n",
      " In the end - Resynced\n"
     ]
    }
   ],
   "source": [
    "print(al1)"
   ]
  },
  {
   "cell_type": "markdown",
   "metadata": {},
   "source": [
    "## Open / Closed Principle ## \n",
    "\n",
    "Software entities (classes, modules, functions, etc.) should be open for extension, but closed for modification.\n",
    "\n",
    "This means that I should be able to add new functionality without changing my existing code structure, but by adding new code instead. "
   ]
  },
  {
   "cell_type": "code",
   "execution_count": 26,
   "metadata": {},
   "outputs": [],
   "source": [
    "class SearchBy:\n",
    "    def is_matched(self, album):\n",
    "        pass\n",
    "    \n",
    "    def __and__(self, other):\n",
    "        return AndSearchBy(self, other)\n",
    "\n",
    "    \n",
    "class AndSearchBy(SearchBy):\n",
    "    def __init__(self, SearchBy1, SearchBy2):\n",
    "        self.SearchBy1= SearchBy1\n",
    "        self.SearchBy2 = SearchBy2\n",
    "        \n",
    "    def is_matched(self, album):\n",
    "        return self.SearchBy1.is_matched(album)and self.SearchBy2.is_matched(album)\n",
    "        \n",
    "        \n",
    "class SearchByGenre(SearchBy):\n",
    "    def __init__(self, genre):\n",
    "        self.genre = genre\n",
    "        \n",
    "    def is_matched(self, album):\n",
    "        return album.genre == self.genre\n",
    "    \n",
    "class SearchByArtist(SearchBy):\n",
    "    def __init__(self, artist):\n",
    "        self.artist = artist\n",
    "    def is_matched(self, album):\n",
    "        return album.artist == self.artist\n",
    "    \n",
    "class AlbumBrowser:\n",
    "    def browse(self, albums, searchby):\n",
    "        return [album for album in albums if searchby.is_matched(album)]"
   ]
  },
  {
   "cell_type": "code",
   "execution_count": 33,
   "metadata": {},
   "outputs": [
    {
     "name": "stdout",
     "output_type": "stream",
     "text": [
      "Album L.A. Woman by The Doors in Rock\n",
      "Tracklist:\n",
      " ['Riders on the Storm']\n"
     ]
    }
   ],
   "source": [
    "LAWoman = Album(\n",
    "    name=\"L.A. Woman\",\n",
    "    artist=\"The Doors\",\n",
    "    songs=[\"Riders on the Storm\"],\n",
    "    genre=\"Rock\",\n",
    ")\n",
    "Trash = Album(\n",
    "    name=\"Trash\",\n",
    "    artist=\"Alice Cooper\",\n",
    "    songs=[\"Poison\"],\n",
    "    genre=\"Rock\",\n",
    ")\n",
    "albums = [LAWoman, Trash, al1]\n",
    "# this creates the AndSearchBy object\n",
    "my_search_criteria = SearchByGenre(genre=\"Rock\") & SearchByArtist(\n",
    "    artist=\"The Doors\"\n",
    ")\n",
    "browser = AlbumBrowser()\n",
    "assert browser.browse(albums=albums, searchby=my_search_criteria) == [LAWoman]\n",
    "# yay we found our album\n",
    "\n",
    "print(browser.browse(albums=albums, searchby=my_search_criteria)[0])\n",
    "        "
   ]
  },
  {
   "cell_type": "markdown",
   "metadata": {},
   "source": [
    "## Liskov Substitution Principle ##\n",
    "\n",
    "The principle defines that objects of a superclass shall be replaceable with objects of its subclasses without breaking the application. That requires the objects of your subclasses to behave in the same way as the objects of your superclass.\n",
    "\n",
    "This means that if we have a base class T and subclass S, you should be able to substitute the main class T with the subclass S without breaking the code. The interface of a subclass should be the same as the interface of the base class, and the subclass should behave in the same way as the base class.\n",
    "\n",
    "In the classic example with rectangles and squares, we create a Rectangle class, with width and height setters. If you have a square, the width setter also needs to resize the height, and vice versa to keep the square property. This forces us to make a choice: we either keep the implementation of the Rectangle class, but then Square stops being a square when you use the setter on it, or you change the setters to make height and width the same for squares. This could lead to some unexpected behaviour if you have a function that resizes the height of your shape."
   ]
  },
  {
   "cell_type": "code",
   "execution_count": 42,
   "metadata": {},
   "outputs": [],
   "source": [
    "class Rectangle:\n",
    "    def __init__(self, height, width):\n",
    "        self._height = height\n",
    "        self._width = width\n",
    "        \n",
    "    @property    \n",
    "    def width(self):\n",
    "        return  self._width \n",
    "    \n",
    "    @width.setter\n",
    "    def width(self, value):\n",
    "        self._width = value\n",
    "\n",
    "    @property\n",
    "    def height(self):\n",
    "        return self._height\n",
    "    \n",
    "    @height.setter\n",
    "    def height(self, value):\n",
    "        self._height = value\n",
    "        \n",
    "    def get_area(self):\n",
    "        return self._height * self._width\n",
    "    \n",
    "    \n",
    "    \n",
    "        \n",
    "class Square(Rectangle):\n",
    "    def __init__(self, size):\n",
    "        Rectangle.__init__(self, size, size)\n",
    "        \n",
    "    @Rectangle.height.setter\n",
    "    def height(self, size):\n",
    "        self._height = size\n",
    "        self._width = size\n",
    "        \n",
    "    @Rectangle.width.setter\n",
    "    def width(self, size):\n",
    "        self._width = size\n",
    "        self._height = size\n",
    "        \n",
    "    "
   ]
  },
  {
   "cell_type": "code",
   "execution_count": 55,
   "metadata": {},
   "outputs": [
    {
     "name": "stdout",
     "output_type": "stream",
     "text": [
      "25\n",
      "9\n"
     ]
    }
   ],
   "source": [
    "def get_squashed_height_area(Rectangle):\n",
    "    #Rectangle.height = 1\n",
    "    area = Rectangle.get_area()\n",
    "    return area\n",
    "\n",
    "rectangle = Rectangle(5, 5)\n",
    "square = Square(3)\n",
    "\n",
    "print(get_squashed_height_area(rectangle))  ## 5\n",
    "print(get_squashed_height_area(square)) ## 1\n"
   ]
  },
  {
   "cell_type": "markdown",
   "metadata": {},
   "source": [
    "## Interface Segregation Principle ##\n",
    "\n",
    "“Clients should not be forced to depend upon interfaces that they do not use.”\n",
    "\n",
    "If you have a base class with many methods, possibly not all of your subclasses are going to need them, maybe just a few. But due to inheritance, you will be able to call these methods on all the subclasses, even on those that don’t need it. This means a lot of interfaces that are unused, unneeded and will result in bugs when they get accidentally called.\n",
    "\n",
    "This principle is meant to prevent this from happening. We should make interfaces as small as possible, so that we don’t need to implement functions we don’t need. Instead of one big base class, we should split them into multiple ones. They should only have methods that make sense for each, and then have our subclasses inherit from them.\n",
    "\n"
   ]
  },
  {
   "cell_type": "code",
   "execution_count": 46,
   "metadata": {},
   "outputs": [],
   "source": [
    "class PlaySongs:\n",
    "    def __init__(self, title):\n",
    "        self.title = title\n",
    "    def play_drums(self):\n",
    "        print(\"Ba-dum ts\")\n",
    "    def play_guitar(self):\n",
    "        print(\"*Soul-moving guitar solo*\")\n",
    "    def sing_lyrics(self):\n",
    "        print(\"NaNaNaNa\")\n",
    "# This class is fine, just changing the guitar and lyrics\n",
    "class PlayRockSongs(PlaySongs): \n",
    "    def play_guitar(self):\n",
    "        print(\"*Very metal guitar solo*\")\n",
    "    def sing_lyrics(self):\n",
    "        print(\"I wanna rock and roll all night\")\n",
    "# This breaks the ISP, we don't have lyrics \n",
    "class PlayInstrumentalSongs(PlaySongs):\n",
    "    def sing_lyrics(self):\n",
    "        raise Exception(\"No lyrics for instrumental songs\")"
   ]
  },
  {
   "cell_type": "markdown",
   "metadata": {},
   "source": [
    "Instead, we could have a class for the singing and the music separately (assuming guitar and drums always happen together in our case, otherwise we need to split them up even more, perhaps by instrument.) This way, we only have the interfaces we need, we cannot call sing lyrics on instrumental songs."
   ]
  },
  {
   "cell_type": "code",
   "execution_count": 51,
   "metadata": {},
   "outputs": [],
   "source": [
    "from abc import ABCMeta, abstractmethod\n",
    "\n",
    "class PlaySongsLyrics:\n",
    "    @abstractmethod\n",
    "    def sing_lyrics(self, title):\n",
    "        pass\n",
    "class PlaySongsMusic:\n",
    "    @abstractmethod\n",
    "    def play_guitar(self, title):\n",
    "        pass\n",
    "    @abstractmethod\n",
    "    def play_drums(self, title):\n",
    "        pass\n",
    "class PlayInstrumentalSong(PlaySongsMusic):\n",
    "    def play_drums(self, title):\n",
    "        print(\"Ba-dum ts\")\n",
    "    def play_guitar(self, title):\n",
    "        print(\"*Soul-moving guitar solo*\")\n",
    "class PlayRockSong(PlaySongsMusic, PlaySongsLyrics):\n",
    "    def play_guitar(self):\n",
    "        print(\"*Very metal guitar solo*\")\n",
    "    def sing_lyrics(self):\n",
    "        print(\"I wanna rock and roll all night\")\n",
    "    def play_drums(self, title):\n",
    "        print(\"Ba-dum ts\")"
   ]
  },
  {
   "cell_type": "markdown",
   "metadata": {},
   "source": [
    "## Dependency Inversion Principle  ##\n",
    "\n",
    "High-level modules should not depend on low-level modules. Both should depend on abstractions (e.g. interfaces).\n",
    "Abstractions should not depend on details. Details (concrete implementations) should depend on abstractions\n",
    "\n",
    "If your code has well-defined abstract interfaces, changing the internal implementation of one class shouldn’t break your code. A class it interacts with should not have knowledge of the inner workings of the other class, and should be unaffected as long as the interfaces are the same. An example would be changing the type of database you use (SQL or NoSQL) or changing the data structure you store your data in (dictionary or list).\n",
    "\n",
    "\n",
    "This is illustrated in the following example, where ViewRockAlbums explicitly depends on the fact that albums are stored in a tuple in a certain order inside AlbumStore. It should have no knowledge of the internal structure of Albumstore. Now if we change the ordering in the tuples in the album, our code would break."
   ]
  },
  {
   "cell_type": "code",
   "execution_count": 52,
   "metadata": {},
   "outputs": [],
   "source": [
    "class AlbumStore:\n",
    "    albums = []\n",
    "    def add_album(self, name, artist, genre):\n",
    "        self.albums.append((name, artist, genre))\n",
    "class ViewRockAlbums:\n",
    "    def __init__(self, album_store):\n",
    "        for album in album_store.albums:\n",
    "            if album[2] == \"Rock\":\n",
    "                print(f\"We have {album[0]} in store.\")"
   ]
  },
  {
   "cell_type": "markdown",
   "metadata": {},
   "source": [
    "Instead, we need to add an abstract interface to AlbumStore to hide the details, that can be called by other classes. This should be done as in the example in the Open-Closed Principle, but assuming we don’t care about filtering by anything else, I’ll just add a filter_by_genre method. Now if we had another type of AlbumStore, that decides to store the album differently, it would need to implement the same interface for filter_by_genre to make ViewRockAlbums work."
   ]
  },
  {
   "cell_type": "code",
   "execution_count": 53,
   "metadata": {},
   "outputs": [],
   "source": [
    "class GeneralAlbumStore:\n",
    "    @abstractmethod\n",
    "    def filter_by_genre(self, genre):\n",
    "        pass\n",
    "class MyAlbumStore(GeneralAlbumStore):\n",
    "    albums = []\n",
    "    def add_album(self, name, artist, genre):\n",
    "        self.albums.append((name, artist, genre))\n",
    "    def filter_by_genre(self, genre):\n",
    "        if album[2] == genre:\n",
    "            yield album[0]\n",
    "class ViewRockAlbums:\n",
    "    def __init__(self, album_store):\n",
    "        for album_name in album_store.filter_by_genre(\"Rock\"):\n",
    "            print(f\"We have {album_name} in store.\")"
   ]
  },
  {
   "cell_type": "code",
   "execution_count": null,
   "metadata": {},
   "outputs": [],
   "source": []
  }
 ],
 "metadata": {
  "kernelspec": {
   "display_name": "Python 3",
   "language": "python",
   "name": "python3"
  },
  "language_info": {
   "codemirror_mode": {
    "name": "ipython",
    "version": 3
   },
   "file_extension": ".py",
   "mimetype": "text/x-python",
   "name": "python",
   "nbconvert_exporter": "python",
   "pygments_lexer": "ipython3",
   "version": "3.7.6"
  }
 },
 "nbformat": 4,
 "nbformat_minor": 4
}
