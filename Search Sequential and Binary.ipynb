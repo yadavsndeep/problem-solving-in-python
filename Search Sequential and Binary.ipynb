{
 "cells": [
  {
   "cell_type": "markdown",
   "metadata": {},
   "source": [
    "### Sequential search"
   ]
  },
  {
   "cell_type": "code",
   "execution_count": 8,
   "metadata": {},
   "outputs": [],
   "source": [
    "def seqSearch(lst, ele):\n",
    "    \n",
    "    pos = 0\n",
    "    found = False\n",
    "    \n",
    "    while (pos < len(lst) and not found):\n",
    "        if ele == lst[pos]:\n",
    "            found = True\n",
    "        else:\n",
    "            pos +=1\n",
    "        \n",
    "    return found\n",
    "    \n",
    "        "
   ]
  },
  {
   "cell_type": "code",
   "execution_count": 13,
   "metadata": {},
   "outputs": [
    {
     "data": {
      "text/plain": [
       "False"
      ]
     },
     "execution_count": 13,
     "metadata": {},
     "output_type": "execute_result"
    }
   ],
   "source": [
    "seqSearch([2,3,4,12,5,7],14)"
   ]
  },
  {
   "cell_type": "code",
   "execution_count": 14,
   "metadata": {},
   "outputs": [],
   "source": [
    "def seqSearchOrdered(lst, ele):\n",
    "    \n",
    "    pos = 0\n",
    "    found = False\n",
    "    stopped = False\n",
    "    \n",
    "    while (pos < len(lst) and not found and not stopped):\n",
    "        if ele == lst[pos]:\n",
    "            found = True\n",
    "        else:\n",
    "            if lst[pos] > ele :\n",
    "                stopped = True\n",
    "            else :\n",
    "                pos +=1\n",
    "        \n",
    "    return found"
   ]
  },
  {
   "cell_type": "code",
   "execution_count": 17,
   "metadata": {},
   "outputs": [
    {
     "data": {
      "text/plain": [
       "True"
      ]
     },
     "execution_count": 17,
     "metadata": {},
     "output_type": "execute_result"
    }
   ],
   "source": [
    "seqSearchOrdered([2,3,4,12,5,7],4)"
   ]
  },
  {
   "cell_type": "markdown",
   "metadata": {},
   "source": [
    "### Binary Search"
   ]
  },
  {
   "cell_type": "code",
   "execution_count": 73,
   "metadata": {},
   "outputs": [],
   "source": [
    "def binSearch(lst,ele):\n",
    "\n",
    "    \n",
    "    end = len(lst)\n",
    "    middle = end//2\n",
    "  #  print(\" middle position\", middle)\n",
    " #   print(\" middle ele\", lst[middle])\n",
    " #   print(\"ele\", ele)\n",
    "  #  print(ele == lst[middle])\n",
    "    \n",
    "    if len(lst) == 0 :\n",
    "        return False\n",
    "    \n",
    "    if ele == lst[middle]:\n",
    "        return True\n",
    "    else:\n",
    "        if ele > lst[middle]:\n",
    "            return binSearch(lst[middle+1:],ele)\n",
    "        else:\n",
    "            return binSearch (lst[:middle],ele)\n",
    "        "
   ]
  },
  {
   "cell_type": "code",
   "execution_count": 80,
   "metadata": {},
   "outputs": [
    {
     "data": {
      "text/plain": [
       "True"
      ]
     },
     "execution_count": 80,
     "metadata": {},
     "output_type": "execute_result"
    }
   ],
   "source": [
    "binSearch([1,2,4,5,7,8,9],4)"
   ]
  },
  {
   "cell_type": "code",
   "execution_count": null,
   "metadata": {},
   "outputs": [],
   "source": []
  }
 ],
 "metadata": {
  "kernelspec": {
   "display_name": "Python 3",
   "language": "python",
   "name": "python3"
  },
  "language_info": {
   "codemirror_mode": {
    "name": "ipython",
    "version": 3
   },
   "file_extension": ".py",
   "mimetype": "text/x-python",
   "name": "python",
   "nbconvert_exporter": "python",
   "pygments_lexer": "ipython3",
   "version": "3.7.6"
  }
 },
 "nbformat": 4,
 "nbformat_minor": 4
}
