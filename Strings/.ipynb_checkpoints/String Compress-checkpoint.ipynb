{
 "cells": [
  {
   "cell_type": "code",
   "execution_count": 22,
   "metadata": {},
   "outputs": [],
   "source": [
    "from collections import defaultdict\n",
    "def compress1(instr):\n",
    "    str1 = sorted(instr)\n",
    "    \n",
    "    current=\"\"\n",
    "    result=\"\"\n",
    "    \n",
    "    if len(str1) == 0:\n",
    "        return 0\n",
    "    previous=str1[0]\n",
    "    counter=1\n",
    "    \n",
    "    for letter in str1[1:]:\n",
    "        if letter == previous:\n",
    "            counter +=1\n",
    "            current = letter+str(counter)\n",
    "            previous = letter\n",
    "        else:\n",
    "            result = result+current\n",
    "            previous =letter\n",
    "            counter = 1\n",
    "            current = letter+str(counter)\n",
    "            \n",
    "    return result+current\n",
    "        \n",
    "    "
   ]
  },
  {
   "cell_type": "code",
   "execution_count": 24,
   "metadata": {},
   "outputs": [
    {
     "data": {
      "text/plain": [
       "'A2B1F1H3R2T1'"
      ]
     },
     "execution_count": 24,
     "metadata": {},
     "output_type": "execute_result"
    }
   ],
   "source": [
    "compress1(\"HHFHAABRRT\")"
   ]
  },
  {
   "cell_type": "code",
   "execution_count": 2,
   "metadata": {},
   "outputs": [],
   "source": [
    "from collections import defaultdict\n",
    "\n",
    "def compress(instr):\n",
    "   \n",
    "    dd = defaultdict(int)\n",
    "    \n",
    "    result=[]\n",
    "    \n",
    "    if len(instr) == 0:\n",
    "        return 0\n",
    "    \n",
    "    for ltr in instr:\n",
    "        dd[ltr] += 1\n",
    "        \n",
    "    for item in dd:\n",
    "        result.append(item + str(dd[item]))\n",
    "        \n",
    "    return \"\".join(result)\n",
    "    \n",
    "    "
   ]
  },
  {
   "cell_type": "code",
   "execution_count": 4,
   "metadata": {},
   "outputs": [
    {
     "data": {
      "text/plain": [
       "'U2H1T2u1h1t1G1F1f1'"
      ]
     },
     "execution_count": 4,
     "metadata": {},
     "output_type": "execute_result"
    }
   ],
   "source": [
    "compress(\"UHTuhtUTGFf\")"
   ]
  },
  {
   "cell_type": "code",
   "execution_count": 5,
   "metadata": {},
   "outputs": [
    {
     "name": "stdout",
     "output_type": "stream",
     "text": [
      "ALL TEST CASES PASSED\n"
     ]
    }
   ],
   "source": [
    "from nose.tools import assert_equal\n",
    "\n",
    "class Compress_test(object):\n",
    "    \n",
    "    def test(self, sol):\n",
    "        assert_equal(compress(\"HHFHAABRRT\"),\"H3F1A2B1R2T1\")\n",
    "        assert_equal(compress(\"\"),0)\n",
    "        assert_equal(compress(\"UHTuhtUTGFf\"),\"U2H1T2u1h1t1G1F1f1\")\n",
    "        print(\"ALL TEST CASES PASSED\")\n",
    "        \n",
    "ct = Compress_test()\n",
    "ct.test(compress)"
   ]
  },
  {
   "cell_type": "code",
   "execution_count": null,
   "metadata": {},
   "outputs": [],
   "source": []
  }
 ],
 "metadata": {
  "kernelspec": {
   "display_name": "Python 3",
   "language": "python",
   "name": "python3"
  },
  "language_info": {
   "codemirror_mode": {
    "name": "ipython",
    "version": 3
   },
   "file_extension": ".py",
   "mimetype": "text/x-python",
   "name": "python",
   "nbconvert_exporter": "python",
   "pygments_lexer": "ipython3",
   "version": "3.7.6"
  }
 },
 "nbformat": 4,
 "nbformat_minor": 4
}
