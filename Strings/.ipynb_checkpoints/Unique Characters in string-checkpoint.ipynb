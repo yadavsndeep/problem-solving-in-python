{
 "cells": [
  {
   "cell_type": "code",
   "execution_count": null,
   "metadata": {},
   "outputs": [],
   "source": [
    "def uni_char(instr):\n",
    "    \n",
    "    l = len(instr)\n",
    "    if l == 0:\n",
    "        return None\n",
    "    \n",
    "    instr = sorted(instr)\n",
    "    i=0\n",
    "    \n",
    "    while i < l:\n",
    "        if instr[i] == instr[i+1]:\n",
    "            return False\n",
    "        else:\n",
    "            i += 1\n",
    "            \n",
    "    return True"
   ]
  }
 ],
 "metadata": {
  "kernelspec": {
   "display_name": "Python 3",
   "language": "python",
   "name": "python3"
  },
  "language_info": {
   "codemirror_mode": {
    "name": "ipython",
    "version": 3
   },
   "file_extension": ".py",
   "mimetype": "text/x-python",
   "name": "python",
   "nbconvert_exporter": "python",
   "pygments_lexer": "ipython3",
   "version": "3.7.6"
  }
 },
 "nbformat": 4,
 "nbformat_minor": 4
}
