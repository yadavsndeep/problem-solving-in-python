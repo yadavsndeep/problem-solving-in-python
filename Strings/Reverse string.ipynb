{
 "cells": [
  {
   "cell_type": "code",
   "execution_count": 1,
   "metadata": {},
   "outputs": [],
   "source": [
    "def rev_sen(str):\n",
    "    s1 = str.strip()\n",
    "    if len(s1) <= 1:\n",
    "        return s1\n",
    "    \n",
    "    words = str.split()\n",
    "    res = \"\"\n",
    "    \n",
    "    for i in range(len(words)):\n",
    "        res = res + \" \" + words.pop()\n",
    "        \n",
    "    return res.strip()"
   ]
  },
  {
   "cell_type": "code",
   "execution_count": 29,
   "metadata": {},
   "outputs": [
    {
     "data": {
      "text/plain": [
       "'sEn is This'"
      ]
     },
     "execution_count": 29,
     "metadata": {},
     "output_type": "execute_result"
    }
   ],
   "source": [
    "rev_sen(\" This is sEn \")"
   ]
  },
  {
   "cell_type": "code",
   "execution_count": 3,
   "metadata": {},
   "outputs": [],
   "source": [
    "def rev_sen1(str):\n",
    "    s1 = str.strip()\n",
    "    if len(s1) <= 1:\n",
    "        return s1\n",
    "    \n",
    "    return \" \".join(reversed(s1.split()))\n",
    "    "
   ]
  },
  {
   "cell_type": "code",
   "execution_count": 18,
   "metadata": {},
   "outputs": [
    {
     "data": {
      "text/plain": [
       "'sEn is This'"
      ]
     },
     "execution_count": 18,
     "metadata": {},
     "output_type": "execute_result"
    }
   ],
   "source": [
    "rev_sen1(\" This is sEn \")"
   ]
  },
  {
   "cell_type": "code",
   "execution_count": 4,
   "metadata": {},
   "outputs": [
    {
     "name": "stdout",
     "output_type": "stream",
     "text": [
      "ALL TEST CASES PASSED\n"
     ]
    }
   ],
   "source": [
    "from nose.tools import assert_equal\n",
    "\n",
    "class rev_sen_test(object):\n",
    "    \n",
    "    def test(object,sol):\n",
    "        assert_equal(sol(\" This is sEn \"),\"sEn is This\")\n",
    "        print(\"ALL TEST CASES PASSED\")\n",
    "        \n",
    "rs = rev_sen_test()\n",
    "rs.test(rev_sen)"
   ]
  },
  {
   "cell_type": "code",
   "execution_count": null,
   "metadata": {},
   "outputs": [],
   "source": []
  }
 ],
 "metadata": {
  "kernelspec": {
   "display_name": "Python 3",
   "language": "python",
   "name": "python3"
  },
  "language_info": {
   "codemirror_mode": {
    "name": "ipython",
    "version": 3
   },
   "file_extension": ".py",
   "mimetype": "text/x-python",
   "name": "python",
   "nbconvert_exporter": "python",
   "pygments_lexer": "ipython3",
   "version": "3.7.6"
  }
 },
 "nbformat": 4,
 "nbformat_minor": 4
}
