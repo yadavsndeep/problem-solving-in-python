{
 "cells": [
  {
   "cell_type": "markdown",
   "metadata": {},
   "source": [
    "### Binary search tree validation"
   ]
  },
  {
   "cell_type": "code",
   "execution_count": 7,
   "metadata": {},
   "outputs": [],
   "source": [
    "class Node(object):\n",
    "    def __init__(self, key,val):\n",
    "        self.key = key\n",
    "        self.val = val\n",
    "        self.leftChild = None\n",
    "        self.rightChild = None\n",
    "        \n",
    "    def getLeftChild(self):\n",
    "        return self.leftChild \n",
    "    \n",
    "    def getRightChild(self):\n",
    "        return self.rightChild\n",
    "    \n",
    "    def getRootVal(self):\n",
    "        return self.key\n",
    " "
   ]
  },
  {
   "cell_type": "code",
   "execution_count": 10,
   "metadata": {},
   "outputs": [
    {
     "name": "stdout",
     "output_type": "stream",
     "text": [
      "[3, 5, 6, 10, 30]\n"
     ]
    },
    {
     "data": {
      "text/plain": [
       "True"
      ]
     },
     "execution_count": 10,
     "metadata": {},
     "output_type": "execute_result"
    }
   ],
   "source": [
    "tree_vals =[]\n",
    "\n",
    "def inorder(tree):\n",
    "    if tree:\n",
    "        inorder(tree.getLeftChild())\n",
    "        tree_vals.append(tree.getRootVal())\n",
    "        inorder(tree.getRightChild())\n",
    "        \n",
    "        \n",
    "def sort_check(tree_vals):\n",
    "    print(tree_vals)\n",
    "    return tree_vals == sorted(tree_vals)\n",
    "\n",
    "\n",
    "\n",
    "inorder(root)\n",
    "sort_check(tree_vals)\n",
    "    \n",
    "        "
   ]
  },
  {
   "cell_type": "code",
   "execution_count": 4,
   "metadata": {},
   "outputs": [],
   "source": [
    "class Node(object):\n",
    "    def __init__(self, key,val):\n",
    "        self.key = key\n",
    "        self.val = val\n",
    "        self.leftChild = None\n",
    "        self.rightChild = None\n",
    "        \n",
    "    \n",
    "def tree_max(node):\n",
    "        if not node:\n",
    "            return float(\"-inf\")\n",
    "       \n",
    "        maxleft = tree_max(node.leftChild)\n",
    "      #  print(maxleft)\n",
    "        maxright = tree_max(node.rightChild)\n",
    "      #  print(\"max is \",max(node.key, maxleft, maxright))\n",
    "        return max(node.key, maxleft, maxright)\n",
    "    \n",
    "def tree_min(node):\n",
    "        if not node:\n",
    "            return float(\"inf\")\n",
    "        minleft = tree_min(node.leftChild)\n",
    "        minright = tree_min(node.rightChild)\n",
    "        return min(node.key, minleft, minright)\n",
    "\n",
    "def verify(node):\n",
    "        if not node :\n",
    "            return True\n",
    "        if (tree_max(node.leftChild) <= node.key <= tree_min(node.rightChild) and\\\n",
    "            verify(node.leftChild) and verify(node.rightChild)):\n",
    "            return True\n",
    "        else:\n",
    "            return False\n",
    "        \n",
    "        "
   ]
  },
  {
   "cell_type": "code",
   "execution_count": 8,
   "metadata": {},
   "outputs": [
    {
     "name": "stdout",
     "output_type": "stream",
     "text": [
      "True\n"
     ]
    }
   ],
   "source": [
    "root= Node(10, \"Hello\")\n",
    "root.leftChild = Node(5, \"Five\")\n",
    "root.rightChild= Node(30, \"Thirty\")\n",
    "root.leftChild.leftChild = Node(3, \"Three\")\n",
    "root.leftChild.rightChild = Node(6, \"Six\")\n",
    "\n",
    "print(verify(root)) # prints True, since this tree is valid\n",
    "\n"
   ]
  },
  {
   "cell_type": "code",
   "execution_count": 5,
   "metadata": {},
   "outputs": [
    {
     "name": "stdout",
     "output_type": "stream",
     "text": [
      "False\n"
     ]
    }
   ],
   "source": [
    "root = Node(10, \"Ten\")\n",
    "root.rightChild = Node(20, \"Twenty\")\n",
    "root.leftChild = Node(5, \"Five\")\n",
    "root.leftChild.rightChild = Node(15, \"Fifteen\")\n",
    "\n",
    "print(verify(root)) # prints False, since 15 is to the left of 10"
   ]
  },
  {
   "cell_type": "code",
   "execution_count": 5,
   "metadata": {},
   "outputs": [
    {
     "name": "stdout",
     "output_type": "stream",
     "text": [
      "True\n"
     ]
    }
   ],
   "source": [
    "root = Node(10, \"Ten\")\n",
    "print(verify(root))"
   ]
  },
  {
   "cell_type": "code",
   "execution_count": null,
   "metadata": {},
   "outputs": [],
   "source": []
  }
 ],
 "metadata": {
  "kernelspec": {
   "display_name": "Python 3",
   "language": "python",
   "name": "python3"
  },
  "language_info": {
   "codemirror_mode": {
    "name": "ipython",
    "version": 3
   },
   "file_extension": ".py",
   "mimetype": "text/x-python",
   "name": "python",
   "nbconvert_exporter": "python",
   "pygments_lexer": "ipython3",
   "version": "3.7.6"
  }
 },
 "nbformat": 4,
 "nbformat_minor": 4
}
