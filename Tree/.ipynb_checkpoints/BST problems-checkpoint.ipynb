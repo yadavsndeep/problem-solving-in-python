{
 "cells": [
  {
   "cell_type": "markdown",
   "metadata": {},
   "source": [
    "## Tree Level Order Print"
   ]
  },
  {
   "cell_type": "markdown",
   "metadata": {},
   "source": [
    "Given a binary tree of integers, print it in level order. The output will contain space between the numbers in the same level, and new line between different levels. For example, if the tree is:\n",
    "\n",
    "    The output should be:\n",
    "\n",
    "1 \n",
    "2 3 \n",
    "4 5 6"
   ]
  },
  {
   "cell_type": "markdown",
   "metadata": {},
   "source": [
    "#### Solution\n",
    "It won’t be practical to solve this problem using recursion, because recursion is similar to depth first search, but what we need here is breadth first search. So we will use a queue as we did previously in breadth first search. First, we’ll push the root node into the queue. Then we start a while loop with the condition queue not being empty. Then, at each iteration we pop a node from the beginning of the queue and push its children to the end of the queue. Once we pop a node we print its value and space.\n",
    "\n",
    "To print the new line in correct place we should count the number of nodes at each level. We will have 2 counts, namely current level count and next level count. Current level count indicates how many nodes should be printed at this level before printing a new line. We decrement it every time we pop an element from the queue and print it. Once the current level count reaches zero we print a new line. Next level count contains the number of nodes in the next level, which will become the current level count after printing a new line. We count the number of nodes in the next level by counting the number of children of the nodes in the current level. Understanding the code is easier than its explanation:"
   ]
  },
  {
   "cell_type": "code",
   "execution_count": 92,
   "metadata": {},
   "outputs": [],
   "source": [
    "class Node:\n",
    "    def __init__(self, val=None):\n",
    "        self.left = None\n",
    "        self.right = None\n",
    "        self.val =  val"
   ]
  },
  {
   "cell_type": "code",
   "execution_count": 32,
   "metadata": {},
   "outputs": [],
   "source": [
    "import collections\n",
    "def levelOrderPrint(tree):\n",
    "    if not tree:\n",
    "        return\n",
    "    nodes=collections.deque([tree])\n",
    "    currentCount, nextCount = 1, 0\n",
    "   # line_to_print =[]\n",
    "    while len(nodes)!=0:\n",
    "        currentNode=nodes.popleft()\n",
    "        currentCount-=1\n",
    "      #  line_to_print.append(currentNode.val)\n",
    "        print(currentNode.val, end = ' ')\n",
    "        if currentNode.left:\n",
    "            nodes.append(currentNode.left)\n",
    "            nextCount+=1\n",
    "        if currentNode.right:\n",
    "            nodes.append(currentNode.right)\n",
    "            nextCount+=1\n",
    "        if currentCount==0:\n",
    "            #finished printing current level\n",
    "           # print(line_to_print)\n",
    "            print('\\n')\n",
    "         #   line_to_print =[]\n",
    "            currentCount, nextCount = nextCount, currentCount"
   ]
  },
  {
   "cell_type": "code",
   "execution_count": 52,
   "metadata": {},
   "outputs": [],
   "source": [
    "root = Node(1)\n",
    "\n",
    "root.left = Node(2)\n",
    "root.right = Node(3)\n",
    "root.left.left = Node(4)\n",
    "root.left.right = Node(5)\n",
    "root.right.left = Node(6)\n",
    "root.right.right = Node(7)"
   ]
  },
  {
   "cell_type": "code",
   "execution_count": 34,
   "metadata": {},
   "outputs": [
    {
     "name": "stdout",
     "output_type": "stream",
     "text": [
      "1 \n",
      "\n",
      "2 3 \n",
      "\n",
      "4 5 6 7 \n",
      "\n"
     ]
    }
   ],
   "source": [
    "levelOrderPrint(root)"
   ]
  },
  {
   "cell_type": "markdown",
   "metadata": {},
   "source": [
    "## Trim a Binary Search Tree - SOLUTION"
   ]
  },
  {
   "cell_type": "markdown",
   "metadata": {},
   "source": [
    "Given the root of a binary search tree and 2 numbers min and max, trim the tree such that all the numbers in the new tree are between min and max (inclusive). The resulting tree should still be a valid binary search tree.\n",
    "We should remove all the nodes whose value is not between min and max."
   ]
  },
  {
   "cell_type": "markdown",
   "metadata": {},
   "source": [
    "### Solution\n",
    "We can do this by performing a post-order traversal of the tree. We first process the left children, then right children, and finally the node itself. So we form the new tree bottom up, starting from the leaves towards the root. As a result while processing the node itself, both its left and right subtrees are valid trimmed binary search trees (may be NULL as well).\n",
    "\n",
    "At each node we’ll return a reference based on its value, which will then be assigned to its parent’s left or right child pointer, depending on whether the current node is left or right child of the parent. If current node’s value is between min and max (min<=node<=max) then there’s no action need to be taken, so we return the reference to the node itself. If current node’s value is less than min, then we return the reference to its right subtree, and discard the left subtree. Because if a node’s value is less than min, then its left children are definitely less than min since this is a binary search tree. But its right children may or may not be less than min we can’t be sure, so we return the reference to it. Since we’re performing bottom-up post-order traversal, its right subtree is already a trimmed valid binary search tree (possibly NULL), and left subtree is definitely NULL because those nodes were surely less than min and they were eliminated during the post-order traversal. Remember that in post-order traversal we first process all the children of a node, and then finally the node itself.\n",
    "\n",
    "Similar situation occurs when node’s value is greater than max, we now return the reference to its left subtree. Because if a node’s value is greater than max, then its right children are definitely greater than max. But its left children may or may not be greater than max. So we discard the right subtree and return the reference to the already valid left subtree. The code is easier to understand:"
   ]
  },
  {
   "cell_type": "markdown",
   "metadata": {},
   "source": [
    "The complexity of this algorithm is O(N), where N is the number of nodes in the tree. Because we basically perform a post-order traversal of the tree, visiting each and every node one. This is optimal because we should visit every node at least once. This is a very elegant question that demonstrates the effectiveness of recursion in trees."
   ]
  },
  {
   "cell_type": "code",
   "execution_count": 35,
   "metadata": {},
   "outputs": [],
   "source": [
    "def trimBST(tree, minVal, maxVal): \n",
    "    \n",
    "    if not tree: \n",
    "        return \n",
    "    \n",
    "    tree.left=trimBST(tree.left, minVal, maxVal) \n",
    "    tree.right=trimBST(tree.right, minVal, maxVal) \n",
    "    \n",
    "    if minVal<=tree.val<=maxVal: \n",
    "        return tree \n",
    "    \n",
    "    if tree.val<minVal: \n",
    "        return tree.right \n",
    "    \n",
    "    if tree.val>maxVal: \n",
    "        return tree.left "
   ]
  },
  {
   "cell_type": "markdown",
   "metadata": {},
   "source": [
    "### Find Minimum Depth of a Binary Tree\n",
    "\n",
    "Time complexity of the solution is O(n) as it traverses the tree only once."
   ]
  },
  {
   "cell_type": "code",
   "execution_count": 1,
   "metadata": {},
   "outputs": [],
   "source": [
    "def minDepth(node):\n",
    "    if not node:\n",
    "        return 0\n",
    "    \n",
    "    if node.left is None and node.right is None:\n",
    "        return 1\n",
    "    \n",
    "    if node.left is None:\n",
    "        return minDepth(node.right)+1\n",
    "    \n",
    "    if node.right is None:\n",
    "        return minDepth(node.left)+1\n",
    "    \n",
    "    return min(minDepth(node.left),minDepth(node.right))+1"
   ]
  },
  {
   "cell_type": "code",
   "execution_count": 45,
   "metadata": {},
   "outputs": [
    {
     "data": {
      "text/plain": [
       "2"
      ]
     },
     "execution_count": 45,
     "metadata": {},
     "output_type": "execute_result"
    }
   ],
   "source": [
    "root = Node(1) \n",
    "root.left = Node(2) \n",
    "root.right = Node(3) \n",
    "root.left.left = Node(4) \n",
    "root.left.right = Node(5) \n",
    "minDepth(root)"
   ]
  },
  {
   "cell_type": "markdown",
   "metadata": {},
   "source": [
    "###  Lowest Common Ancestor of Deepest Leaves\n",
    "Given a rooted binary tree, return the lowest common ancestor of its deepest leaves.\n",
    "\n",
    "Recall that:\n",
    "\n",
    "The node of a binary tree is a leaf if and only if it has no children\n",
    "The depth of the root of the tree is 0, and if the depth of a node is d, the depth of each of its children is d+1.\n",
    "The lowest common ancestor of a set S of nodes is the node A with the largest depth such that every node in S is in the subtree with root A.\n"
   ]
  },
  {
   "cell_type": "code",
   "execution_count": 88,
   "metadata": {},
   "outputs": [],
   "source": [
    "def recLca( node):\n",
    "        if not node:\n",
    "            print(\"call by node--->\",node)\n",
    "        else:\n",
    "            print(\"call by node--->\",node.val)\n",
    "        if not node:\n",
    "            return 0, None\n",
    "        \n",
    "        left_depth, left_lca = recLca(node.left)\n",
    "        if left_lca != None:\n",
    "            print(\"left_lca,node,depth:\",left_lca.val,node.val,left_depth)\n",
    "        right_depth, right_lca = recLca(node.right)\n",
    "        if right_lca != None:\n",
    "            print(\"right_lca,node,depth:\",right_lca.val,node.val,right_depth)\n",
    "            \n",
    "            \n",
    "        if left_depth == right_depth:\n",
    "            print(\"in equal: \", node.val,left_depth,right_depth)\n",
    "            return left_depth + 1, node\n",
    "        elif left_depth > right_depth:\n",
    "            print(\"in left gt: \",node.val,left_depth,right_depth)\n",
    "            return left_depth + 1, left_lca\n",
    "        else:\n",
    "            print(\"in rigth gt: \",node.val,left_depth,right_depth)\n",
    "            return right_depth + 1, right_lca"
   ]
  },
  {
   "cell_type": "code",
   "execution_count": 90,
   "metadata": {},
   "outputs": [],
   "source": [
    "root = Node(1) \n",
    "root.left = Node(2) \n",
    "root.right = Node(3) \n",
    "root.left.left = Node(4) \n",
    "root.right.right = Node(5) \n"
   ]
  },
  {
   "cell_type": "code",
   "execution_count": 91,
   "metadata": {},
   "outputs": [
    {
     "name": "stdout",
     "output_type": "stream",
     "text": [
      "call by node---> 1\n",
      "call by node---> 2\n",
      "call by node---> 4\n",
      "call by node---> None\n",
      "call by node---> None\n",
      "in equal:  4 0 0\n",
      "left_lca,node,depth: 4 2 1\n",
      "call by node---> None\n",
      "in left gt:  2 1 0\n",
      "left_lca,node,depth: 4 1 2\n",
      "call by node---> 3\n",
      "call by node---> None\n",
      "call by node---> 5\n",
      "call by node---> None\n",
      "call by node---> None\n",
      "in equal:  5 0 0\n",
      "right_lca,node,depth: 5 3 1\n",
      "in rigth gt:  3 0 1\n",
      "right_lca,node,depth: 5 1 2\n",
      "in equal:  1 2 2\n",
      "3 1\n"
     ]
    }
   ],
   "source": [
    "n=recLca(root)\n",
    "print(n[0],n[1].val)"
   ]
  },
  {
   "cell_type": "markdown",
   "metadata": {},
   "source": [
    "### Kth Smallest Element in a BST"
   ]
  },
  {
   "cell_type": "code",
   "execution_count": 117,
   "metadata": {},
   "outputs": [],
   "source": [
    " def kthSmallest(root, k):\n",
    "        \"\"\"\n",
    "        :type root: TreeNode\n",
    "        :type k: int\n",
    "        :rtype: int\n",
    "        \"\"\"\n",
    "        stack = []\n",
    "        \n",
    "        while True:\n",
    "            while root:\n",
    "                stack.append(root)\n",
    "                root = root.left\n",
    "            for item in stack:\n",
    "                print(\"stack values: \",item.val, end=\" \")\n",
    "            root = stack.pop()\n",
    "            print(\"popped: \",root.val)\n",
    "            k -= 1\n",
    "            print(\"k now:\", k)\n",
    "            if not k:\n",
    "                return root.val\n",
    "            root = root.right\n",
    "            print(\"at the end\", root)"
   ]
  },
  {
   "cell_type": "code",
   "execution_count": 121,
   "metadata": {},
   "outputs": [
    {
     "name": "stdout",
     "output_type": "stream",
     "text": [
      "stack values:  8 stack values:  6 stack values:  4 stack values:  3 popped:  3\n",
      "k now: 2\n",
      "at the end None\n",
      "stack values:  8 stack values:  6 stack values:  4 popped:  4\n",
      "k now: 1\n",
      "at the end <__main__.Node object at 0x112676690>\n",
      "stack values:  8 stack values:  6 stack values:  5 popped:  5\n",
      "k now: 0\n"
     ]
    },
    {
     "data": {
      "text/plain": [
       "5"
      ]
     },
     "execution_count": 121,
     "metadata": {},
     "output_type": "execute_result"
    }
   ],
   "source": [
    "root = Node(8) \n",
    "root.left = Node(6) \n",
    "root.right = Node(9) \n",
    "root.left.left = Node(4) \n",
    "root.left.right = Node(7) \n",
    "root.left.left.left = Node(3) \n",
    "root.left.left.right = Node(5) \n",
    "kthSmallest(root,3)"
   ]
  },
  {
   "cell_type": "code",
   "execution_count": null,
   "metadata": {},
   "outputs": [],
   "source": []
  }
 ],
 "metadata": {
  "kernelspec": {
   "display_name": "Python 3",
   "language": "python",
   "name": "python3"
  },
  "language_info": {
   "codemirror_mode": {
    "name": "ipython",
    "version": 3
   },
   "file_extension": ".py",
   "mimetype": "text/x-python",
   "name": "python",
   "nbconvert_exporter": "python",
   "pygments_lexer": "ipython3",
   "version": "3.7.6"
  }
 },
 "nbformat": 4,
 "nbformat_minor": 4
}
