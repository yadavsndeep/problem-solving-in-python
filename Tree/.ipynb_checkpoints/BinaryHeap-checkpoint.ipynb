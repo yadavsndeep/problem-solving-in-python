{
 "cells": [
  {
   "cell_type": "code",
   "execution_count": 3,
   "metadata": {},
   "outputs": [],
   "source": [
    "class BinaryHeap(object):\n",
    "    \n",
    "    def __init__(self):\n",
    "        self.heapList = [0]\n",
    "        self.currentSize = 0\n",
    "        \n",
    "    def insert(self,item):\n",
    "        self.heapList.append(item)\n",
    "        self.currentSize += 1\n",
    "        self.__percUp(self,self.currentSize)\n",
    "        \n",
    "    def __percUp(self,i):\n",
    "        while i // 2 > 0:\n",
    "            if self.heapList[i] < self.heapList[i//2] :\n",
    "                tmp = self.heapList[i//2]\n",
    "                self.heapList[i//2] =self.heapList[i]\n",
    "                self.heapList[i] = tmp\n",
    "                \n",
    "            i = i//2\n",
    "                \n",
    "    def delMin(self):\n",
    "        retVal = self.heapList[1]\n",
    "        self.heapList[1] = self.heapList[self.currentSize]\n",
    "        self.currentSize = self.currentSize -1\n",
    "        self.heapList.pop()\n",
    "        self.__percDown(1)\n",
    "        return retVal\n",
    "    \n",
    "    def __percDown(self,i):\n",
    "        while i*2 <= self.currentSize:\n",
    "            mc = self._minChild(i)\n",
    "            if self.heapList[i] > self.heapList[mc]:\n",
    "                tmp = self.heapList[mc]\n",
    "                self.heapList[mc] = self.heapList[i]\n",
    "                self.heapList[i] = tmp\n",
    "            i = mc\n",
    "    \n",
    "    def _minChild(self,i):      \n",
    "        if (i*2)+1 > self.currentSize:\n",
    "            return i * 2\n",
    "        elif self.heapList[i*2] < self.heapList[(i*2) +1]:\n",
    "            return  i * 2\n",
    "        else:\n",
    "            return i * 2 + 1\n",
    "        \n",
    "    def buildHeap(self,lst):\n",
    "        \n",
    "        i = len(lst) // 2\n",
    "        self.currentSize = len(lst)\n",
    "        self.heapList = [0] + lst\n",
    "        \n",
    "        while i > 0:\n",
    "            self.__percDown(i)\n",
    "            i = i - 1\n",
    "            \n",
    "            \n",
    "        \n",
    "    "
   ]
  },
  {
   "cell_type": "code",
   "execution_count": 4,
   "metadata": {},
   "outputs": [],
   "source": [
    "b = BinaryHeap()"
   ]
  },
  {
   "cell_type": "code",
   "execution_count": 5,
   "metadata": {},
   "outputs": [],
   "source": [
    "b.buildHeap([3,5,19,7,23,6,8])"
   ]
  },
  {
   "cell_type": "code",
   "execution_count": 6,
   "metadata": {},
   "outputs": [
    {
     "name": "stdout",
     "output_type": "stream",
     "text": [
      "[0, 3, 5, 6, 7, 23, 19, 8]\n"
     ]
    }
   ],
   "source": [
    "print(b.heapList)"
   ]
  },
  {
   "cell_type": "code",
   "execution_count": null,
   "metadata": {},
   "outputs": [],
   "source": []
  }
 ],
 "metadata": {
  "kernelspec": {
   "display_name": "Python 3",
   "language": "python",
   "name": "python3"
  },
  "language_info": {
   "codemirror_mode": {
    "name": "ipython",
    "version": 3
   },
   "file_extension": ".py",
   "mimetype": "text/x-python",
   "name": "python",
   "nbconvert_exporter": "python",
   "pygments_lexer": "ipython3",
   "version": "3.7.6"
  }
 },
 "nbformat": 4,
 "nbformat_minor": 4
}
