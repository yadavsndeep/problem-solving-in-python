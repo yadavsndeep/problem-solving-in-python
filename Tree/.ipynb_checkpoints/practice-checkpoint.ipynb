{
 "cells": [
  {
   "cell_type": "code",
   "execution_count": 4,
   "metadata": {},
   "outputs": [],
   "source": [
    "class Node(object):\n",
    "    \n",
    "    def __init__(self,key,val):\n",
    "        self.key= key\n",
    "        self.val= val\n",
    "        self.left_child= None\n",
    "        self.right_child = None\n",
    "    \n",
    "def maxTree(node):\n",
    "        if not node:\n",
    "            return float(\"-inf\")\n",
    "       \n",
    "        max_left = maxTree(node.left_child)\n",
    "        max_right = maxTree(node.right_child)\n",
    "        return max(max_left,node.key,max_right)\n",
    "        \n",
    "        \n",
    "def minTree(node):\n",
    "        if not node:\n",
    "            return float(\"inf\")\n",
    "       \n",
    "        min_left = minTree(node.left_child)\n",
    "        min_right = minTree(node.right_child)\n",
    "        return min(min_left,node.key,min_right)\n",
    "    \n",
    "def verify(node):\n",
    "        if not node:\n",
    "            return True\n",
    "        \n",
    "        if(maxTree(node.left_child) < node.key < minTree(node.right_child) and\\\n",
    "          verify(node.left_child) and verify(node.right_child)):\n",
    "            return True\n",
    "        else:\n",
    "            return False\n",
    "        \n",
    "            \n",
    "        "
   ]
  },
  {
   "cell_type": "code",
   "execution_count": 3,
   "metadata": {},
   "outputs": [],
   "source": [
    "root= Node(30,\"thirty\")\n",
    "root.left_child = Node(15, \"Fifteen\")\n",
    "root.right_child= Node(35, \"Thirtyfive\")\n",
    "root.left_child.left_child = Node(12, \"Twelev\")\n",
    "root.left_child.right_child= Node(37, \"thirtysevenn\")\n",
    "root.right_child.left_child = Node(32, \"Thirtytwo\")\n",
    "root.right_child.right_child= Node(37, \"Seventeen\")\n"
   ]
  },
  {
   "cell_type": "code",
   "execution_count": 36,
   "metadata": {},
   "outputs": [
    {
     "data": {
      "text/plain": [
       "False"
      ]
     },
     "execution_count": 36,
     "metadata": {},
     "output_type": "execute_result"
    }
   ],
   "source": [
    "verify(root)"
   ]
  },
  {
   "cell_type": "code",
   "execution_count": 51,
   "metadata": {},
   "outputs": [],
   "source": [
    "def height(node): \n",
    "    if node is None: \n",
    "        return 0 \n",
    "    else : \n",
    "        # Compute the height of each subtree  \n",
    "        lheight = height(node.left_child) \n",
    "      #  print(\"lheight\",lheight,node.key)\n",
    "        rheight = height(node.right_child) \n",
    "      #  print(\"rheight\",lheight,node.key)\n",
    "  \n",
    "        #Use the larger one \n",
    "        if lheight > rheight : \n",
    "      #      print(\"in if\",lheight+1)\n",
    "            return lheight+1\n",
    "        else: \n",
    "       #     print(\"in else\",rheight+1)\n",
    "            return rheight+1"
   ]
  },
  {
   "cell_type": "code",
   "execution_count": 20,
   "metadata": {},
   "outputs": [
    {
     "name": "stdout",
     "output_type": "stream",
     "text": [
      "lheight 0 12\n",
      "rheight 0 12\n",
      "in else 1\n",
      "lheight 1 15\n",
      "lheight 0 37\n",
      "rheight 0 37\n",
      "in else 1\n",
      "rheight 1 15\n",
      "in else 2\n",
      "lheight 2 30\n",
      "lheight 0 32\n",
      "rheight 0 32\n",
      "in else 1\n",
      "lheight 1 35\n",
      "lheight 0 37\n",
      "rheight 0 37\n",
      "in else 1\n",
      "rheight 1 35\n",
      "in else 2\n",
      "rheight 2 30\n",
      "in else 3\n"
     ]
    },
    {
     "data": {
      "text/plain": [
       "3"
      ]
     },
     "execution_count": 20,
     "metadata": {},
     "output_type": "execute_result"
    }
   ],
   "source": [
    "height(root)"
   ]
  },
  {
   "cell_type": "code",
   "execution_count": 21,
   "metadata": {},
   "outputs": [],
   "source": [
    "# Print nodes at a given level \n",
    "def printGivenLevel(root , level): \n",
    "    if root is None: \n",
    "        return\n",
    "    if level == 1: \n",
    "        print(root.key,end=\" \") \n",
    "    elif level > 1 : \n",
    "        printGivenLevel(root.left_child , level-1) \n",
    "        printGivenLevel(root.right_child , level-1)"
   ]
  },
  {
   "cell_type": "code",
   "execution_count": 50,
   "metadata": {},
   "outputs": [],
   "source": [
    "# Function to  print level order traversal of tree \n",
    "def printLevelOrder(root): \n",
    "    h = height(root) \n",
    "    for i in range(1, h+1): \n",
    "        printGivenLevel(root, i) "
   ]
  },
  {
   "cell_type": "code",
   "execution_count": 25,
   "metadata": {},
   "outputs": [
    {
     "name": "stdout",
     "output_type": "stream",
     "text": [
      "30 15 35 12 37 32 37 "
     ]
    }
   ],
   "source": [
    "printLevelOrder(root)"
   ]
  },
  {
   "cell_type": "code",
   "execution_count": 37,
   "metadata": {},
   "outputs": [
    {
     "name": "stdout",
     "output_type": "stream",
     "text": [
      "1\n",
      "30\n"
     ]
    }
   ],
   "source": [
    "import collections \n",
    "nodes = collections.deque([root])\n",
    "print(len(nodes))\n",
    "currentnode = nodes.popleft()\n",
    "print(currentnode.key)"
   ]
  },
  {
   "cell_type": "markdown",
   "metadata": {},
   "source": [
    "### left visible node count\n",
    "\n",
    "count of nodees at extreme left\n",
    "this is equivalent to height "
   ]
  },
  {
   "cell_type": "code",
   "execution_count": 41,
   "metadata": {},
   "outputs": [],
   "source": [
    "import collections \n",
    "def countLeftNodes(node):\n",
    "    \n",
    "    if not node:\n",
    "        return\n",
    "    \n",
    "    nodes = collections.deque([node])\n",
    "    current_count, next_level = 1,0\n",
    "    counter=0\n",
    "    \n",
    "    while len(nodes) != 0 :\n",
    "        current_node = nodes.popleft()\n",
    "        if current_count==1:\n",
    "            counter +=1\n",
    "        \n",
    "        current_count -= 1\n",
    "        \n",
    "        if current_node.left_child:\n",
    "            nodes.append(current_node.left_child)\n",
    "            next_level +=1\n",
    "        if current_node.right_child:\n",
    "            nodes.append(current_node.right_child)\n",
    "            next_level +=1\n",
    "        \n",
    "        if current_count == 0:\n",
    "            current_count,next_level =next_level,current_count\n",
    "    return counter\n",
    "    \n",
    "    \n",
    "        \n",
    "    "
   ]
  },
  {
   "cell_type": "code",
   "execution_count": 42,
   "metadata": {},
   "outputs": [
    {
     "data": {
      "text/plain": [
       "3"
      ]
     },
     "execution_count": 42,
     "metadata": {},
     "output_type": "execute_result"
    }
   ],
   "source": [
    "countLeftNodes(root)"
   ]
  },
  {
   "cell_type": "code",
   "execution_count": 45,
   "metadata": {},
   "outputs": [],
   "source": [
    "root_1 = Node(8,\"eight\")\n",
    "root_1.left_child = Node(3,\"three\")\n",
    "root_1.right_child = Node(10,\"ten\")\n",
    "root_1.left_child.left_child = Node(1,\"one\")\n",
    "root_1.left_child.right_child = Node(6,\"six\")\n",
    "root_1.left_child.right_child.left_child = Node(4,\"four\")\n",
    "root_1.left_child.right_child.right_child = Node(7,\"seven\")\n",
    "root_1.right_child.right_child = Node(14,\"forteen\")\n",
    "root_1.right_child.right_child.left_child = Node(13,\"thirteen\")"
   ]
  },
  {
   "cell_type": "code",
   "execution_count": 46,
   "metadata": {},
   "outputs": [
    {
     "data": {
      "text/plain": [
       "4"
      ]
     },
     "execution_count": 46,
     "metadata": {},
     "output_type": "execute_result"
    }
   ],
   "source": [
    "countLeftNodes(root_1)"
   ]
  },
  {
   "cell_type": "code",
   "execution_count": 48,
   "metadata": {},
   "outputs": [],
   "source": [
    "root_2 = Node(10,\"ten\")\n",
    "root_2.left_child = Node(8,\"eight\")\n",
    "root_2.right_child = Node(15,\"Fifteen\")\n",
    "root_2.left_child.left_child = Node(4,\"four\")\n",
    "root_2.left_child.left_child.right_child = Node(5,\"five\")\n",
    "root_2.left_child.left_child.right_child.right_child = Node(6,\"six\")\n",
    "root_2.right_child.left_child =Node(14,\"forteen\")\n",
    "root_2.right_child.right_child = Node(16,\"sixteen\")"
   ]
  },
  {
   "cell_type": "code",
   "execution_count": 49,
   "metadata": {},
   "outputs": [
    {
     "data": {
      "text/plain": [
       "5"
      ]
     },
     "execution_count": 49,
     "metadata": {},
     "output_type": "execute_result"
    }
   ],
   "source": [
    "countLeftNodes(root_2)"
   ]
  },
  {
   "cell_type": "code",
   "execution_count": 52,
   "metadata": {},
   "outputs": [
    {
     "name": "stdout",
     "output_type": "stream",
     "text": [
      "10 8 15 4 14 16 5 6 "
     ]
    }
   ],
   "source": [
    "printLevelOrder(root_2)"
   ]
  },
  {
   "cell_type": "markdown",
   "metadata": {},
   "source": [
    "#### In a binary tree, if in the path from root to the node A, there is no node with greater value than A’s, this node A is visible. We need to count the number of visible nodes in a binary tree.\n",
    "\n",
    "Input:\n",
    "        5\n",
    "     /     \\\n",
    "   3        10\n",
    "  /  \\     /\n",
    "20   21   1\n",
    "\n",
    "Output: 4\n",
    "Explanation: There are 4 visible nodes: 5, 20, 21, and 10."
   ]
  },
  {
   "cell_type": "code",
   "execution_count": 58,
   "metadata": {},
   "outputs": [],
   "source": [
    "def countVisible(node):\n",
    "    if not node:\n",
    "        return 0\n",
    "    return traverse(node, float(\"-inf\"))\n",
    "\n",
    "def traverse(node, max_val):\n",
    "    if not node:\n",
    "        return 0\n",
    "    visible =1 if node.key > max_val else 0\n",
    "    max_val = max(max_val, node.key)\n",
    "    \n",
    "    return traverse(node.left_child,max_val)+ visible + traverse(node.right_child,max_val)\n",
    "    "
   ]
  },
  {
   "cell_type": "code",
   "execution_count": 59,
   "metadata": {},
   "outputs": [
    {
     "data": {
      "text/plain": [
       "3"
      ]
     },
     "execution_count": 59,
     "metadata": {},
     "output_type": "execute_result"
    }
   ],
   "source": [
    "countVisible(root_2)"
   ]
  },
  {
   "cell_type": "code",
   "execution_count": 60,
   "metadata": {},
   "outputs": [],
   "source": [
    "root_3 = Node(5,\"five\")\n",
    "root_3.left_child=Node(3,\"three\")\n",
    "root_3.left_child.left_child = Node(20,\"twenty\")\n",
    "root_3.left_child.right_child = Node(21,\"twentyone\")\n",
    "root_3.right_child=Node(10,\"ten\")\n",
    "root_3.right_child.left_child = Node(1,\"one\")"
   ]
  },
  {
   "cell_type": "code",
   "execution_count": 61,
   "metadata": {},
   "outputs": [
    {
     "data": {
      "text/plain": [
       "4"
      ]
     },
     "execution_count": 61,
     "metadata": {},
     "output_type": "execute_result"
    }
   ],
   "source": [
    "countVisible(root_3)"
   ]
  },
  {
   "cell_type": "markdown",
   "metadata": {},
   "source": [
    "### density of a B tree\n",
    "\n",
    "density = size/height"
   ]
  },
  {
   "cell_type": "code",
   "execution_count": 1,
   "metadata": {},
   "outputs": [],
   "source": [
    "def density(root):\n",
    "    \n",
    "    if not root:\n",
    "        return 0\n",
    "    \n",
    "    "
   ]
  },
  {
   "attachments": {
    "image.png": {
     "image/png": "[encoded data removed]"
    }
   },
   "cell_type": "markdown",
   "metadata": {},
   "source": [
    "### Smallest Subtree with all the Deepest Nodes\n",
    "Given a binary tree rooted at root, the depth of each node is the shortest distance to the root.\n",
    "\n",
    "A node is deepest if it has the largest depth possible among any node in the entire tree.\n",
    "\n",
    "The subtree of a node is that node, plus the set of all descendants of that node.\n",
    "\n",
    "Return the node with the largest depth such that it contains all the deepest nodes in its subtree.\n",
    "Input: [3,5,1,6,2,0,8,null,null,7,4]\n",
    "\n",
    "Output: [2,7,4]\n",
    "\n",
    "![image.png](attachment:image.png)\n"
   ]
  },
  {
   "cell_type": "code",
   "execution_count": 17,
   "metadata": {},
   "outputs": [],
   "source": [
    "class Node:\n",
    "    def __init__(self, val=None):\n",
    "        self.left = None\n",
    "        self.right = None\n",
    "        self.val =  val"
   ]
  },
  {
   "cell_type": "code",
   "execution_count": 31,
   "metadata": {},
   "outputs": [],
   "source": [
    "\n",
    "def subtreeWithAllDeepest(root):\n",
    "        \n",
    "        depth = {None: -1}\n",
    "        \n",
    "        def dfs(node,parent= None):\n",
    "            if node:\n",
    "                depth[node] = depth[parent]+1\n",
    "                dfs(node.left, node)\n",
    "                dfs(node.right, node)\n",
    "        \n",
    "        dfs(root)\n",
    "        \n",
    "        max_depth = max(depth.values())\n",
    "        \n",
    "        def answer(node):\n",
    "            if not node or depth.get(node,None) == max_depth:\n",
    "                return node\n",
    "            L, R = answer(node.left) , answer(node.right)\n",
    "            return node if L and R else L or R\n",
    "        \n",
    "        return answer(root)\n",
    "            \n",
    "    \n",
    "    "
   ]
  },
  {
   "cell_type": "code",
   "execution_count": 33,
   "metadata": {},
   "outputs": [],
   "source": [
    "root = Node(3) \n",
    "root.left = Node(5) \n",
    "root.right = Node(1) \n",
    "root.left.left = Node(6) \n",
    "root.left.right = Node(2) \n",
    "root.left.right.left = Node(7) \n",
    "root.left.right.right = Node(4) \n",
    "root.right.left = Node(8) \n",
    "root.right.right = Node(0) "
   ]
  },
  {
   "cell_type": "code",
   "execution_count": 34,
   "metadata": {},
   "outputs": [
    {
     "name": "stdout",
     "output_type": "stream",
     "text": [
      "2\n"
     ]
    }
   ],
   "source": [
    "n= subtreeWithAllDeepest(root)\n",
    "print(n.val)"
   ]
  },
  {
   "cell_type": "code",
   "execution_count": null,
   "metadata": {},
   "outputs": [],
   "source": []
  }
 ],
 "metadata": {
  "kernelspec": {
   "display_name": "Python 3",
   "language": "python",
   "name": "python3"
  },
  "language_info": {
   "codemirror_mode": {
    "name": "ipython",
    "version": 3
   },
   "file_extension": ".py",
   "mimetype": "text/x-python",
   "name": "python",
   "nbconvert_exporter": "python",
   "pygments_lexer": "ipython3",
   "version": "3.7.6"
  }
 },
 "nbformat": 4,
 "nbformat_minor": 4
}
