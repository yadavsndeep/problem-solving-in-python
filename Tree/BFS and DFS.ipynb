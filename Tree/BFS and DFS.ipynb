{
 "cells": [
  {
   "cell_type": "markdown",
   "metadata": {},
   "source": [
    "### BFS "
   ]
  },
  {
   "cell_type": "code",
   "execution_count": 2,
   "metadata": {},
   "outputs": [],
   "source": [
    "class Node(object):\n",
    "    \n",
    "    def __init__(self,key):\n",
    "        self.val= key\n",
    "        self.left = None\n",
    "        self.right = None\n",
    "        "
   ]
  },
  {
   "cell_type": "code",
   "execution_count": 22,
   "metadata": {},
   "outputs": [],
   "source": [
    "def orderLevelTraverse(tree):\n",
    "    \n",
    "    if tree is None:\n",
    "        return None\n",
    "    \n",
    "    h = height(tree)\n",
    "    \n",
    "    for h in range(1, h+1):\n",
    "        printLevel(root,h)\n",
    "        print('\\n')\n",
    "        \n",
    "def height(tree):\n",
    "    if not tree:\n",
    "        return 0\n",
    "    \n",
    "    lheight = height(tree.left)\n",
    "    rheight = height(tree.right)\n",
    "    \n",
    "    \n",
    "    if lheight > rheight:\n",
    "        return lheight +1\n",
    "    else:\n",
    "        return rheight+1\n",
    "    \n",
    "def printLevel(node,h):\n",
    "    \n",
    "    if not node:\n",
    "        return\n",
    "    \n",
    "    if h == 1:\n",
    "        print(node.val,end=\" \")\n",
    "        \n",
    "    elif h > 1:\n",
    "        printLevel(node.left, h-1)\n",
    "        printLevel(node.right, h-1)\n",
    "        "
   ]
  },
  {
   "cell_type": "code",
   "execution_count": 23,
   "metadata": {},
   "outputs": [
    {
     "name": "stdout",
     "output_type": "stream",
     "text": [
      "1 \n",
      "\n",
      "2 3 \n",
      "\n",
      "4 5 \n",
      "\n"
     ]
    }
   ],
   "source": [
    "root = Node(1) \n",
    "root.left = Node(2) \n",
    "root.right = Node(3) \n",
    "root.left.left = Node(4) \n",
    "root.left.right = Node(5)\n",
    "orderLevelTraverse(root)\n",
    "        "
   ]
  },
  {
   "cell_type": "markdown",
   "metadata": {},
   "source": [
    "### DFS"
   ]
  },
  {
   "cell_type": "code",
   "execution_count": 19,
   "metadata": {},
   "outputs": [],
   "source": [
    "def verticalOrderTraverse(tree):\n",
    "    if not tree :\n",
    "        return None\n",
    "    \n",
    "    min = [0]\n",
    "    max = [0]\n",
    "    hd = 0\n",
    "    \n",
    "    findMinMax(tree,min,max,hd)\n",
    "    \n",
    "    for line in range(min[0],max[0]+1):\n",
    "        printVerticalLine(tree,line,0)\n",
    "        print('\\n')\n",
    "        \n",
    "        \n",
    "def findMinMax(tree,min,max,hd):\n",
    "    if not tree:\n",
    "        return 0\n",
    "    \n",
    "    if hd < min[0]:\n",
    "        min[0] = hd\n",
    "    elif hd > max[0]:\n",
    "        max[0] = hd\n",
    "        \n",
    "    findMinMax(tree.left,min,max,hd-1)\n",
    "    findMinMax(tree.right,min,max,hd+1)\n",
    "    \n",
    "\n",
    "def printVerticalLine(node,line,hd):\n",
    "    if not node:\n",
    "        return \n",
    "    \n",
    "    if line == hd :\n",
    "        print(node.val,end=\" \")\n",
    "        \n",
    "    printVerticalLine(node.left,line,hd-1)\n",
    "    printVerticalLine(node.right,line,hd+1)\n"
   ]
  },
  {
   "cell_type": "code",
   "execution_count": 20,
   "metadata": {},
   "outputs": [],
   "source": [
    "root1 = Node(1) \n",
    "root1.left = Node(2) \n",
    "root1.right = Node(3) \n",
    "root1.left.left = Node(4) \n",
    "root1.left.right = Node(5) \n",
    "root1.right.left = Node(6) \n",
    "root1.right.right = Node(7) \n",
    "root1.right.left.right = Node(8) \n",
    "root1.right.right.right = Node(9)"
   ]
  },
  {
   "cell_type": "code",
   "execution_count": 21,
   "metadata": {},
   "outputs": [
    {
     "name": "stdout",
     "output_type": "stream",
     "text": [
      "4 \n",
      "\n",
      "2 \n",
      "\n",
      "1 5 6 \n",
      "\n",
      "3 8 \n",
      "\n",
      "7 \n",
      "\n",
      "9 \n",
      "\n"
     ]
    }
   ],
   "source": [
    "verticalOrderTraverse(root1)"
   ]
  },
  {
   "cell_type": "markdown",
   "metadata": {},
   "source": [
    "### vertical order traversal using map\n",
    "\n",
    "Time Complexity of hashing based solution can be considered as O(n) under the assumption that we have good hashing function that allows insertion and retrieval operations in O(1) time. In the above C++ implementation, map of STL is used. map in STL is typically implemented using a Self-Balancing Binary Search Tree where all operations take O(Logn) time. Therefore time complexity of the above implementation is O(nLogn)."
   ]
  },
  {
   "cell_type": "code",
   "execution_count": 33,
   "metadata": {},
   "outputs": [
    {
     "name": "stdout",
     "output_type": "stream",
     "text": [
      "Vertical order traversal is\n",
      "4 \n",
      "\n",
      "2 \n",
      "\n",
      "1 5 6 \n",
      "\n",
      "3 8 \n",
      "\n",
      "7 \n",
      "\n",
      "9 \n",
      "\n"
     ]
    }
   ],
   "source": [
    "# Python program for printing vertical order of a given \n",
    "# binary tree \n",
    "\n",
    "# A binary tree node \n",
    "class Node: \n",
    "\t# Constructor to create a new node \n",
    "\tdef __init__(self, key): \n",
    "\t\tself.key = key \n",
    "\t\tself.left = None\n",
    "\t\tself.right = None\n",
    "\n",
    "# Utility function to store vertical order in map 'm' \n",
    "# 'hd' is horizontal distance of current node from root \n",
    "# 'hd' is initially passed as 0 \n",
    "def getVerticalOrder(root, hd, m): \n",
    "\n",
    "\t# Base Case \n",
    "\tif root is None: \n",
    "\t\treturn\n",
    "\t\n",
    "\t# Store current node in map 'm' \n",
    "\ttry: \n",
    "\t\tm[hd].append(root.key) \n",
    "\texcept: \n",
    "\t\tm[hd] = [root.key] \n",
    "\t\n",
    "\t# Store nodes in left subtree \n",
    "\tgetVerticalOrder(root.left, hd-1, m) \n",
    "\t\n",
    "\t# Store nodes in right subtree \n",
    "\tgetVerticalOrder(root.right, hd+1, m) \n",
    "\n",
    "# The main function to print vertical order of a binary \n",
    "#tree ith given root \n",
    "def printVerticalOrder(root): \n",
    "\t\n",
    "\t# Create a map and store vertical order in map using \n",
    "\t# function getVerticalORder() \n",
    "\tm = dict() \n",
    "\thd = 0\n",
    "\tgetVerticalOrder(root, hd, m) \n",
    "\t\n",
    "\t# Traverse the map and print nodes at every horizontal \n",
    "\t# distance (hd) \n",
    "\tfor index, value in enumerate(sorted(m)): \n",
    "\t\tfor i in m[value]: \n",
    "\t\t\tprint(i, end=\" \")\n",
    "\t\tprint(\"\\n\")\n",
    "\n",
    "\n",
    "# Driver program to test above function \n",
    "root = Node(1) \n",
    "root.left = Node(2) \n",
    "root.right = Node(3) \n",
    "root.left.left = Node(4) \n",
    "root.left.right = Node(5) \n",
    "root.right.left = Node(6) \n",
    "root.right.right = Node(7) \n",
    "root.right.left.right = Node(8) \n",
    "root.right.right.right = Node(9) \n",
    "print(\"Vertical order traversal is\")\n",
    "printVerticalOrder(root) \n",
    "\n"
   ]
  },
  {
   "cell_type": "code",
   "execution_count": null,
   "metadata": {},
   "outputs": [],
   "source": []
  },
  {
   "cell_type": "code",
   "execution_count": null,
   "metadata": {},
   "outputs": [],
   "source": []
  }
 ],
 "metadata": {
  "kernelspec": {
   "display_name": "Python 3",
   "language": "python",
   "name": "python3"
  },
  "language_info": {
   "codemirror_mode": {
    "name": "ipython",
    "version": 3
   },
   "file_extension": ".py",
   "mimetype": "text/x-python",
   "name": "python",
   "nbconvert_exporter": "python",
   "pygments_lexer": "ipython3",
   "version": "3.7.6"
  }
 },
 "nbformat": 4,
 "nbformat_minor": 4
}
