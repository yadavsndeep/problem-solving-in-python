{
 "cells": [
  {
   "cell_type": "markdown",
   "metadata": {},
   "source": [
    "\n",
    "We want make a package of goal kilos of chocolate. We have small bars (1 kilo each) and big bars (5 kilos each). Return the number of small bars to use, assuming we always use big bars before small bars. Return -1 if it can't be done.\n",
    "\n",
    "\n",
    "make_chocolate(4, 1, 9) → 4\n",
    "make_chocolate(4, 1, 10) → -1\n",
    "make_chocolate(4, 1, 7) → 2"
   ]
  },
  {
   "cell_type": "code",
   "execution_count": 1,
   "metadata": {},
   "outputs": [],
   "source": [
    "def make_chocolate(small, big, goal):\n",
    "  total = small + big*5\n",
    " # print (total)\n",
    "  \n",
    "  \n",
    "    \n",
    "  \n",
    "  if goal == total:\n",
    "    return small\n",
    "  \n",
    "  if( goal%5 <= small):   # enough small aviailable\n",
    "    #print(\"enough small aviailable\")\n",
    "    if ((goal%5) == 0 ):  # goal multiple of 5\n",
    "      #print(\"goal multiple of 5\")\n",
    "      if (big*5 >= goal):    # and we have enough bigs don't need small\n",
    "        #print(\"and we have enough bigs don't need small\")\n",
    "        return 0\n",
    "      elif(small < (goal - big*5)): \n",
    "        return -1\n",
    "      else:\n",
    "        #print(\"big not enough small will suffice as well\")\n",
    "       # print(goal - big*5)\n",
    "        return (goal - big*5)\n",
    "    if (goal%5) > 0  :   \n",
    "      if (0 <  (goal - big *5)  <= small):\n",
    "        return goal - big *5\n",
    "      elif (0 >  (goal - big *5)  <= small):\n",
    "        return goal%5\n",
    "      else :\n",
    "        return -1\n",
    "      \n",
    "  return -1     # not enough small aviailable\n",
    "\n",
    "# suffice with big only\n",
    "# big is not enough and goal not 5*"
   ]
  },
  {
   "cell_type": "code",
   "execution_count": 2,
   "metadata": {},
   "outputs": [
    {
     "data": {
      "text/plain": [
       "6"
      ]
     },
     "execution_count": 2,
     "metadata": {},
     "output_type": "execute_result"
    }
   ],
   "source": [
    "make_chocolate(1000, 1000000, 5000006)"
   ]
  },
  {
   "cell_type": "code",
   "execution_count": 3,
   "metadata": {},
   "outputs": [
    {
     "data": {
      "text/plain": [
       "6"
      ]
     },
     "execution_count": 3,
     "metadata": {},
     "output_type": "execute_result"
    }
   ],
   "source": [
    "make_chocolate(6, 1, 11)"
   ]
  },
  {
   "cell_type": "code",
   "execution_count": 4,
   "metadata": {},
   "outputs": [
    {
     "data": {
      "text/plain": [
       "-1"
      ]
     },
     "execution_count": 4,
     "metadata": {},
     "output_type": "execute_result"
    }
   ],
   "source": [
    "make_chocolate(6, 1, 12)"
   ]
  },
  {
   "cell_type": "code",
   "execution_count": 5,
   "metadata": {},
   "outputs": [
    {
     "data": {
      "text/plain": [
       "0"
      ]
     },
     "execution_count": 5,
     "metadata": {},
     "output_type": "execute_result"
    }
   ],
   "source": [
    "make_chocolate(1, 2, 5)"
   ]
  },
  {
   "cell_type": "code",
   "execution_count": 6,
   "metadata": {},
   "outputs": [
    {
     "data": {
      "text/plain": [
       "1"
      ]
     },
     "execution_count": 6,
     "metadata": {},
     "output_type": "execute_result"
    }
   ],
   "source": [
    "make_chocolate(1, 2, 6)"
   ]
  },
  {
   "cell_type": "code",
   "execution_count": 7,
   "metadata": {},
   "outputs": [
    {
     "data": {
      "text/plain": [
       "5"
      ]
     },
     "execution_count": 7,
     "metadata": {},
     "output_type": "execute_result"
    }
   ],
   "source": [
    "make_chocolate(6, 1, 10)"
   ]
  },
  {
   "cell_type": "code",
   "execution_count": 17,
   "metadata": {},
   "outputs": [],
   "source": [
    "def make_chocolate1(small, big, goal):\n",
    "    total = small + big*5\n",
    "    res = 0 \n",
    "    i = 1\n",
    "    \n",
    "    if(goal > total):  # insufficient\n",
    "        return -1\n",
    "    \n",
    "    if(goal == total):  # exact same\n",
    "        return small\n",
    "\n",
    "    while( res <= goal and i <= big): \n",
    "        res = res + 5\n",
    "        i = i+1\n",
    "    \n",
    "    if (res == goal):\n",
    "        return 0\n",
    "    \n",
    "    if (res >= goal):\n",
    "        res = res - 5\n",
    "    \n",
    "    if (goal - res) > small:\n",
    "        return -1\n",
    "    else:\n",
    "        return goal - res\n",
    "    "
   ]
  },
  {
   "cell_type": "code",
   "execution_count": 18,
   "metadata": {},
   "outputs": [
    {
     "data": {
      "text/plain": [
       "6"
      ]
     },
     "execution_count": 18,
     "metadata": {},
     "output_type": "execute_result"
    }
   ],
   "source": [
    "make_chocolate1(1000, 1000000, 5000006)"
   ]
  },
  {
   "cell_type": "code",
   "execution_count": null,
   "metadata": {},
   "outputs": [],
   "source": []
  }
 ],
 "metadata": {
  "kernelspec": {
   "display_name": "Python 3",
   "language": "python",
   "name": "python3"
  },
  "language_info": {
   "codemirror_mode": {
    "name": "ipython",
    "version": 3
   },
   "file_extension": ".py",
   "mimetype": "text/x-python",
   "name": "python",
   "nbconvert_exporter": "python",
   "pygments_lexer": "ipython3",
   "version": "3.7.6"
  }
 },
 "nbformat": 4,
 "nbformat_minor": 4
}
