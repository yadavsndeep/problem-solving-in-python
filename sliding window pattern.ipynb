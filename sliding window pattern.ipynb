{
 "cells": [
  {
   "cell_type": "markdown",
   "metadata": {},
   "source": [
    "# Sliding window pattern"
   ]
  },
  {
   "cell_type": "markdown",
   "metadata": {},
   "source": [
    "### average of subarrays"
   ]
  },
  {
   "cell_type": "code",
   "execution_count": 1,
   "metadata": {},
   "outputs": [],
   "source": [
    "def find_averages_of_subarrays(K, arr):\n",
    "  result = []\n",
    "  windowSum, windowStart = 0.0, 0\n",
    "  for windowEnd in range(len(arr)):\n",
    "    windowSum += arr[windowEnd]  # add the next element\n",
    "    # slide the window, we don't need to slide if we've not hit the required window size of 'k'\n",
    "    if windowEnd >= K - 1:\n",
    "      result.append(windowSum / K)  # calculate the average\n",
    "      windowSum -= arr[windowStart]  # subtract the element going out\n",
    "      windowStart += 1  # slide the window ahead\n",
    "\n",
    "  return result"
   ]
  },
  {
   "cell_type": "code",
   "execution_count": 2,
   "metadata": {},
   "outputs": [
    {
     "data": {
      "text/plain": [
       "[2.2, 2.8, 2.4, 3.6, 2.8]"
      ]
     },
     "execution_count": 2,
     "metadata": {},
     "output_type": "execute_result"
    }
   ],
   "source": [
    "find_averages_of_subarrays(5, [1, 3, 2, 6, -1, 4, 1, 8, 2])"
   ]
  },
  {
   "cell_type": "markdown",
   "metadata": {},
   "source": [
    "### smallest subarray fitting a sum\n",
    "Problem Statement #\n",
    "Given an array of positive numbers and a positive number ‘S’, find the length of the smallest contiguous subarray whose sum is greater than or equal to ‘S’. Return 0, if no such subarray exists.\n",
    "Input: [2, 1, 5, 2, 3, 2], S=7 \n",
    "Output: 2\n",
    "Explanation: The smallest subarray with a sum great than or equal to '7' is [5, 2]."
   ]
  },
  {
   "cell_type": "code",
   "execution_count": 8,
   "metadata": {},
   "outputs": [],
   "source": [
    "import sys\n",
    "\n",
    "def findMinSubArray(s, arr):\n",
    "    \n",
    "    windowSum, windowStart = 0.0,0\n",
    "    windowLength = sys.maxsize\n",
    "    for windowEnd in range (len(arr)):\n",
    "        windowSum += arr[windowEnd]\n",
    "        while ( windowSum >= s):\n",
    "            windowLength = min(windowLength, windowEnd- windowStart +1)\n",
    "            windowSum -= arr[windowStart]\n",
    "            windowStart +=1\n",
    "    if (windowLength != sys.maxsize):\n",
    "        return windowLength\n",
    "    else:\n",
    "        return 0\n",
    "            \n",
    "    "
   ]
  },
  {
   "cell_type": "code",
   "execution_count": 9,
   "metadata": {},
   "outputs": [
    {
     "data": {
      "text/plain": [
       "2"
      ]
     },
     "execution_count": 9,
     "metadata": {},
     "output_type": "execute_result"
    }
   ],
   "source": [
    "findMinSubArray(7, [2, 1, 5, 2, 3, 2])"
   ]
  },
  {
   "cell_type": "code",
   "execution_count": 10,
   "metadata": {},
   "outputs": [
    {
     "data": {
      "text/plain": [
       "9223372036854775807"
      ]
     },
     "execution_count": 10,
     "metadata": {},
     "output_type": "execute_result"
    }
   ],
   "source": [
    "sys.maxsize"
   ]
  },
  {
   "cell_type": "code",
   "execution_count": 11,
   "metadata": {},
   "outputs": [
    {
     "data": {
      "text/plain": [
       "1"
      ]
     },
     "execution_count": 11,
     "metadata": {},
     "output_type": "execute_result"
    }
   ],
   "source": [
    "findMinSubArray(7, [2, 1, 5, 2, 8])"
   ]
  },
  {
   "cell_type": "code",
   "execution_count": 12,
   "metadata": {},
   "outputs": [
    {
     "data": {
      "text/plain": [
       "3"
      ]
     },
     "execution_count": 12,
     "metadata": {},
     "output_type": "execute_result"
    }
   ],
   "source": [
    "findMinSubArray(8, [3, 4, 1, 1, 6])"
   ]
  },
  {
   "cell_type": "markdown",
   "metadata": {},
   "source": [
    "### Longest Substring with K Distinct Characters (medium)\n",
    "Given a string, find the length of the longest substring in it with no more than K distinct characters\n",
    "\n",
    "Input: String=\"araaci\", K=2\n",
    "Output: 4\n",
    "Explanation: The longest substring with no more than '2' distinct characters is \"araa\"."
   ]
  },
  {
   "cell_type": "code",
   "execution_count": 5,
   "metadata": {},
   "outputs": [],
   "source": [
    "from collections import defaultdict\n",
    "class LongestSubstringKDistinct( object):\n",
    "    \n",
    "    def getLength(self, inStr,k):\n",
    "        \n",
    "        windowStart, maxLength = 0, 0\n",
    "        subStrMap = defaultdict(int)\n",
    "        \n",
    "        \n",
    "        for windowEnd in range(len(inStr)):\n",
    "            rightChar = inStr[windowEnd]\n",
    "            subStrMap[rightChar] +=1\n",
    "            \n",
    "            while(len(subStrMap) > k):\n",
    "                leftChar = inStr[windowStart]\n",
    "                subStrMap[leftChar] -=1\n",
    "                \n",
    "                if (subStrMap[leftChar] == 0):\n",
    "                    del subStrMap[leftChar]\n",
    "            \n",
    "                windowStart +=1\n",
    "                \n",
    "            maxLength = max(maxLength,windowEnd-windowStart+1)\n",
    "            \n",
    "        return maxLength\n",
    "        "
   ]
  },
  {
   "cell_type": "code",
   "execution_count": 6,
   "metadata": {},
   "outputs": [],
   "source": [
    "l = LongestSubstringKDistinct()"
   ]
  },
  {
   "cell_type": "code",
   "execution_count": 8,
   "metadata": {},
   "outputs": [
    {
     "data": {
      "text/plain": [
       "2"
      ]
     },
     "execution_count": 8,
     "metadata": {},
     "output_type": "execute_result"
    }
   ],
   "source": [
    "l.getLength(\"araaci\",1)"
   ]
  },
  {
   "cell_type": "code",
   "execution_count": 9,
   "metadata": {},
   "outputs": [
    {
     "data": {
      "text/plain": [
       "5"
      ]
     },
     "execution_count": 9,
     "metadata": {},
     "output_type": "execute_result"
    }
   ],
   "source": [
    "l.getLength(\"cbbebi\", 3)"
   ]
  },
  {
   "cell_type": "code",
   "execution_count": 5,
   "metadata": {},
   "outputs": [],
   "source": [
    "from collections import defaultdict\n",
    "class MaxFruitCountof2Types(object):\n",
    "\n",
    "        \n",
    "    def getMaxFruitCount2types(self,inArr):\n",
    "        windowStart, maxLength = 0,0\n",
    "        \n",
    "        fruitTypeCount = defaultdict(int)\n",
    "        for windowEnd in range(len(inArr)):\n",
    "            \n",
    "            fruitTypeCount[inArr[windowEnd]] +=1\n",
    "            \n",
    "            while len(fruitTypeCount) > 2 :\n",
    "                leftChar = inArr[windowStart]\n",
    "                fruitTypeCount[leftChar] -=1\n",
    "                \n",
    "                if (fruitTypeCount[leftChar] == 0):\n",
    "                    del fruitTypeCount[leftChar]\n",
    "                \n",
    "                windowStart +=1\n",
    "                \n",
    "            maxLength = max(maxLength, windowEnd-windowStart+1 )\n",
    "            \n",
    "        return maxLength\n",
    "                "
   ]
  },
  {
   "cell_type": "code",
   "execution_count": 6,
   "metadata": {},
   "outputs": [],
   "source": [
    "f = MaxFruitCountof2Types()"
   ]
  },
  {
   "cell_type": "code",
   "execution_count": 7,
   "metadata": {},
   "outputs": [
    {
     "data": {
      "text/plain": [
       "3"
      ]
     },
     "execution_count": 7,
     "metadata": {},
     "output_type": "execute_result"
    }
   ],
   "source": [
    "f.getMaxFruitCount2types(['a','a','c','d','a','d'])"
   ]
  },
  {
   "cell_type": "code",
   "execution_count": null,
   "metadata": {},
   "outputs": [],
   "source": []
  }
 ],
 "metadata": {
  "kernelspec": {
   "display_name": "Python 3",
   "language": "python",
   "name": "python3"
  },
  "language_info": {
   "codemirror_mode": {
    "name": "ipython",
    "version": 3
   },
   "file_extension": ".py",
   "mimetype": "text/x-python",
   "name": "python",
   "nbconvert_exporter": "python",
   "pygments_lexer": "ipython3",
   "version": "3.7.6"
  }
 },
 "nbformat": 4,
 "nbformat_minor": 4
}
