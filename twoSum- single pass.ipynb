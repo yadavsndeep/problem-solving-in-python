{
 "cells": [
  {
   "cell_type": "markdown",
   "metadata": {},
   "source": [
    "twoSum using single pass"
   ]
  },
  {
   "cell_type": "code",
   "execution_count": 1,
   "metadata": {},
   "outputs": [],
   "source": [
    "def twoSum(nums, target):\n",
    "        res = {}\n",
    "        \n",
    "        if (nums == []):\n",
    "            return []\n",
    "        \n",
    "        \n",
    "        for i in range (0, len(nums)):\n",
    "            other = target - nums[i]\n",
    "         #   print(other)\n",
    "            if nums[i] not in res:\n",
    "                res[other] = i\n",
    "              #  print(res)\n",
    "            else:\n",
    "               # print(\"in else\")\n",
    "                return[res[nums[i]],i]"
   ]
  },
  {
   "cell_type": "code",
   "execution_count": 26,
   "metadata": {},
   "outputs": [
    {
     "name": "stdout",
     "output_type": "stream",
     "text": [
      "7\n",
      "{7: 0}\n",
      "2\n",
      "in else\n"
     ]
    },
    {
     "data": {
      "text/plain": [
       "[0, 1]"
      ]
     },
     "execution_count": 26,
     "metadata": {},
     "output_type": "execute_result"
    }
   ],
   "source": [
    "nums =[2,7,11,15]\n",
    "twoSum(nums,9)"
   ]
  },
  {
   "cell_type": "code",
   "execution_count": 4,
   "metadata": {},
   "outputs": [],
   "source": [
    "from collections import defaultdict\n",
    "def twoSum1(nums, target):\n",
    "        res = defaultdict(int)\n",
    "        \n",
    "        if (nums == []):\n",
    "            return []\n",
    "        \n",
    "        \n",
    "        for i in range (0, len(nums)):\n",
    "            other = target - nums[i]\n",
    "         #   print(other)\n",
    "            if other not in res:\n",
    "                res[nums[i]] = i\n",
    "              #  print(res)\n",
    "            else:\n",
    "               # print(\"in else\")\n",
    "                return[res[nums[i]],i]"
   ]
  },
  {
   "cell_type": "code",
   "execution_count": 5,
   "metadata": {},
   "outputs": [
    {
     "data": {
      "text/plain": [
       "[0, 1]"
      ]
     },
     "execution_count": 5,
     "metadata": {},
     "output_type": "execute_result"
    }
   ],
   "source": [
    "nums =[2,7,11,15]\n",
    "twoSum1(nums,9)"
   ]
  },
  {
   "cell_type": "code",
   "execution_count": null,
   "metadata": {},
   "outputs": [],
   "source": []
  }
 ],
 "metadata": {
  "kernelspec": {
   "display_name": "Python 3",
   "language": "python",
   "name": "python3"
  },
  "language_info": {
   "codemirror_mode": {
    "name": "ipython",
    "version": 3
   },
   "file_extension": ".py",
   "mimetype": "text/x-python",
   "name": "python",
   "nbconvert_exporter": "python",
   "pygments_lexer": "ipython3",
   "version": "3.7.6"
  }
 },
 "nbformat": 4,
 "nbformat_minor": 4
}
